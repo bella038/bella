{
 "cells": [
  {
   "cell_type": "code",
   "execution_count": 2,
   "metadata": {},
   "outputs": [
    {
     "name": "stdout",
     "output_type": "stream",
     "text": [
      "Learning Python now!\n"
     ]
    }
   ],
   "source": [
    "print('Learning Python now!')\n"
   ]
  },
  {
   "cell_type": "code",
   "execution_count": 3,
   "metadata": {},
   "outputs": [
    {
     "name": "stdout",
     "output_type": "stream",
     "text": [
      "Python is fun\n"
     ]
    }
   ],
   "source": [
    "print('Python is fun')\n"
   ]
  },
  {
   "cell_type": "code",
   "execution_count": 4,
   "metadata": {},
   "outputs": [
    {
     "ename": "SyntaxError",
     "evalue": "invalid character in identifier (<ipython-input-4-b0b19d4271e3>, line 1)",
     "output_type": "error",
     "traceback": [
      "\u001b[0;36m  File \u001b[0;32m\"<ipython-input-4-b0b19d4271e3>\"\u001b[0;36m, line \u001b[0;32m1\u001b[0m\n\u001b[0;31m    ＃display two messages\u001b[0m\n\u001b[0m           ^\u001b[0m\n\u001b[0;31mSyntaxError\u001b[0m\u001b[0;31m:\u001b[0m invalid character in identifier\n"
     ]
    }
   ],
   "source": [
    "＃display two messages\n",
    "print('Learning Python now!')\n",
    "print('Python is fun')"
   ]
  },
  {
   "cell_type": "code",
   "execution_count": null,
   "metadata": {},
   "outputs": [],
   "source": [
    "print(Learning Python now!)"
   ]
  },
  {
   "cell_type": "code",
   "execution_count": null,
   "metadata": {},
   "outputs": [],
   "source": [
    "#Convert Fahrenheit to Celsisus\n",
    "print('Fahrenheit 80 is Celsius degree')\n",
    "print(5/9*80-32)"
   ]
  },
  {
   "cell_type": "code",
   "execution_count": null,
   "metadata": {},
   "outputs": [],
   "source": [
    "#Convert miles to Kilometers\n",
    "print('mile 96 is Kilometer')\n",
    "print(96*1.6)"
   ]
  },
  {
   "cell_type": "code",
   "execution_count": null,
   "metadata": {},
   "outputs": [],
   "source": [
    "print(12345)"
   ]
  },
  {
   "cell_type": "code",
   "execution_count": null,
   "metadata": {},
   "outputs": [],
   "source": [
    "print(123.456)"
   ]
  },
  {
   "cell_type": "code",
   "execution_count": 5,
   "metadata": {},
   "outputs": [
    {
     "name": "stdout",
     "output_type": "stream",
     "text": [
      "Learning Python now!\n"
     ]
    }
   ],
   "source": [
    "print(\"Learning Python now!\")"
   ]
  },
  {
   "cell_type": "code",
   "execution_count": 6,
   "metadata": {},
   "outputs": [
    {
     "name": "stdout",
     "output_type": "stream",
     "text": [
      "Pyhton is fun\n",
      "Lets go\n"
     ]
    }
   ],
   "source": [
    "print('Pyhton is fun')\n",
    "print('Lets go')"
   ]
  },
  {
   "cell_type": "code",
   "execution_count": 7,
   "metadata": {},
   "outputs": [
    {
     "name": "stdout",
     "output_type": "stream",
     "text": [
      "Hello,\n",
      "world\n"
     ]
    }
   ],
   "source": [
    "print('Hello,')\n",
    "print('world')"
   ]
  },
  {
   "cell_type": "code",
   "execution_count": 8,
   "metadata": {},
   "outputs": [
    {
     "name": "stdout",
     "output_type": "stream",
     "text": [
      "Hello,world\n"
     ]
    }
   ],
   "source": [
    "print('Hello,',end='')\n",
    "print('world')"
   ]
  },
  {
   "cell_type": "code",
   "execution_count": 9,
   "metadata": {},
   "outputs": [
    {
     "name": "stdout",
     "output_type": "stream",
     "text": [
      "Hello, world\n"
     ]
    }
   ],
   "source": [
    "print('Hello,','world')"
   ]
  },
  {
   "cell_type": "code",
   "execution_count": 10,
   "metadata": {},
   "outputs": [
    {
     "name": "stdout",
     "output_type": "stream",
     "text": [
      "Hello,***world\n"
     ]
    }
   ],
   "source": [
    "print('Hello,',end='***')\n",
    "print('world')"
   ]
  },
  {
   "cell_type": "code",
   "execution_count": 11,
   "metadata": {},
   "outputs": [
    {
     "name": "stdout",
     "output_type": "stream",
     "text": [
      "     100\n"
     ]
    }
   ],
   "source": [
    "print(format(100,\"8d\"))"
   ]
  },
  {
   "cell_type": "code",
   "execution_count": 12,
   "metadata": {},
   "outputs": [
    {
     "name": "stdout",
     "output_type": "stream",
     "text": [
      "100000\n"
     ]
    }
   ],
   "source": [
    "print(format(100000,'3d'))"
   ]
  },
  {
   "cell_type": "code",
   "execution_count": 13,
   "metadata": {},
   "outputs": [
    {
     "name": "stdout",
     "output_type": "stream",
     "text": [
      "      64\n"
     ]
    }
   ],
   "source": [
    "print(format(100,'8x'))"
   ]
  },
  {
   "cell_type": "code",
   "execution_count": 14,
   "metadata": {},
   "outputs": [
    {
     "name": "stdout",
     "output_type": "stream",
     "text": [
      "     144\n"
     ]
    }
   ],
   "source": [
    "print(format(100,'8o'))"
   ]
  },
  {
   "cell_type": "code",
   "execution_count": 15,
   "metadata": {},
   "outputs": [
    {
     "name": "stdout",
     "output_type": "stream",
     "text": [
      " 1100100\n"
     ]
    }
   ],
   "source": [
    "print(format(100,'8b'))"
   ]
  },
  {
   "cell_type": "code",
   "execution_count": 16,
   "metadata": {},
   "outputs": [
    {
     "name": "stdout",
     "output_type": "stream",
     "text": [
      "23.89%\n"
     ]
    }
   ],
   "source": [
    "print(format(0.2389,'6.2%'))"
   ]
  },
  {
   "cell_type": "code",
   "execution_count": 17,
   "metadata": {},
   "outputs": [
    {
     "name": "stdout",
     "output_type": "stream",
     "text": [
      "  123.46\n"
     ]
    }
   ],
   "source": [
    "print(format(123.456,'8.2f'))"
   ]
  },
  {
   "cell_type": "code",
   "execution_count": 18,
   "metadata": {},
   "outputs": [
    {
     "name": "stdout",
     "output_type": "stream",
     "text": [
      "Python is fun  \n"
     ]
    }
   ],
   "source": [
    "print(format('Python is fun','15s'))"
   ]
  },
  {
   "cell_type": "code",
   "execution_count": 19,
   "metadata": {},
   "outputs": [
    {
     "name": "stdout",
     "output_type": "stream",
     "text": [
      "  Python is fun\n"
     ]
    }
   ],
   "source": [
    "print(format('Python is fun','>15s'))"
   ]
  },
  {
   "cell_type": "code",
   "execution_count": 20,
   "metadata": {},
   "outputs": [
    {
     "name": "stdout",
     "output_type": "stream",
     "text": [
      "     12345\n"
     ]
    }
   ],
   "source": [
    "print(format(12345,'10d'))"
   ]
  },
  {
   "cell_type": "code",
   "execution_count": 21,
   "metadata": {},
   "outputs": [
    {
     "name": "stdout",
     "output_type": "stream",
     "text": [
      "12345     \n"
     ]
    }
   ],
   "source": [
    "print(format(12345,'<10d'))"
   ]
  },
  {
   "cell_type": "code",
   "execution_count": 22,
   "metadata": {},
   "outputs": [
    {
     "name": "stdout",
     "output_type": "stream",
     "text": [
      "   12345   \n"
     ]
    }
   ],
   "source": [
    "print(format(12345,'^11d'))"
   ]
  },
  {
   "cell_type": "code",
   "execution_count": 23,
   "metadata": {},
   "outputs": [
    {
     "name": "stdout",
     "output_type": "stream",
     "text": [
      "     12345\n"
     ]
    }
   ],
   "source": [
    "print(format(12345,'10d'))"
   ]
  },
  {
   "cell_type": "code",
   "execution_count": 24,
   "metadata": {},
   "outputs": [
    {
     "name": "stdout",
     "output_type": "stream",
     "text": [
      "        12\n"
     ]
    }
   ],
   "source": [
    "print(format(12,'10d'))"
   ]
  },
  {
   "cell_type": "code",
   "execution_count": 25,
   "metadata": {},
   "outputs": [
    {
     "name": "stdout",
     "output_type": "stream",
     "text": [
      "   1234567\n"
     ]
    }
   ],
   "source": [
    "print(format(1234567,'10d'))"
   ]
  },
  {
   "cell_type": "code",
   "execution_count": 26,
   "metadata": {},
   "outputs": [
    {
     "name": "stdout",
     "output_type": "stream",
     "text": [
      "        12\n"
     ]
    }
   ],
   "source": [
    "print(format(12,'10d'))"
   ]
  },
  {
   "cell_type": "code",
   "execution_count": 27,
   "metadata": {},
   "outputs": [
    {
     "name": "stdout",
     "output_type": "stream",
     "text": [
      "   1234567\n"
     ]
    }
   ],
   "source": [
    "print(format(1234567,'10d'))"
   ]
  },
  {
   "cell_type": "code",
   "execution_count": 28,
   "metadata": {},
   "outputs": [
    {
     "name": "stdout",
     "output_type": "stream",
     "text": [
      "     12345\n"
     ]
    }
   ],
   "source": [
    "print(format(12345,'10d'))"
   ]
  },
  {
   "cell_type": "code",
   "execution_count": 29,
   "metadata": {},
   "outputs": [
    {
     "name": "stdout",
     "output_type": "stream",
     "text": [
      "   1234567\n"
     ]
    }
   ],
   "source": [
    "print(format(1234567,'10d'))"
   ]
  },
  {
   "cell_type": "code",
   "execution_count": 30,
   "metadata": {},
   "outputs": [
    {
     "name": "stdout",
     "output_type": "stream",
     "text": [
      "     12345\n"
     ]
    }
   ],
   "source": [
    "print(format(12345,'10d'))"
   ]
  },
  {
   "cell_type": "code",
   "execution_count": 31,
   "metadata": {},
   "outputs": [
    {
     "name": "stdout",
     "output_type": "stream",
     "text": [
      "        12\n"
     ]
    }
   ],
   "source": [
    "print(format(12,'10d'))"
   ]
  },
  {
   "cell_type": "code",
   "execution_count": 32,
   "metadata": {},
   "outputs": [
    {
     "name": "stdout",
     "output_type": "stream",
     "text": [
      "     12345"
     ]
    }
   ],
   "source": [
    "print(format(12345,'10d'),end='')"
   ]
  },
  {
   "cell_type": "code",
   "execution_count": 33,
   "metadata": {},
   "outputs": [
    {
     "name": "stdout",
     "output_type": "stream",
     "text": [
      "        12"
     ]
    }
   ],
   "source": [
    "print(format(12,'10d'),end='')"
   ]
  },
  {
   "cell_type": "code",
   "execution_count": 34,
   "metadata": {},
   "outputs": [
    {
     "name": "stdout",
     "output_type": "stream",
     "text": [
      "   1234567\n"
     ]
    }
   ],
   "source": [
    "print(format(1234567,'10d'))"
   ]
  },
  {
   "cell_type": "code",
   "execution_count": 35,
   "metadata": {},
   "outputs": [
    {
     "name": "stdout",
     "output_type": "stream",
     "text": [
      "        12"
     ]
    }
   ],
   "source": [
    "print(format(12,'10d'),end='')"
   ]
  },
  {
   "cell_type": "code",
   "execution_count": 36,
   "metadata": {},
   "outputs": [
    {
     "name": "stdout",
     "output_type": "stream",
     "text": [
      "   1234567"
     ]
    }
   ],
   "source": [
    "print(format(1234567,'10d'),end='')"
   ]
  },
  {
   "cell_type": "code",
   "execution_count": 37,
   "metadata": {},
   "outputs": [
    {
     "name": "stdout",
     "output_type": "stream",
     "text": [
      "     12345\n"
     ]
    }
   ],
   "source": [
    "print(format(12345,'10d'))"
   ]
  },
  {
   "cell_type": "code",
   "execution_count": 38,
   "metadata": {},
   "outputs": [
    {
     "name": "stdout",
     "output_type": "stream",
     "text": [
      "   1234567"
     ]
    }
   ],
   "source": [
    "print(format(1234567,'10d'),end='')"
   ]
  },
  {
   "cell_type": "code",
   "execution_count": 39,
   "metadata": {},
   "outputs": [
    {
     "name": "stdout",
     "output_type": "stream",
     "text": [
      "     12345"
     ]
    }
   ],
   "source": [
    "print(format(12345,'10d'),end='')"
   ]
  },
  {
   "cell_type": "code",
   "execution_count": 40,
   "metadata": {},
   "outputs": [
    {
     "name": "stdout",
     "output_type": "stream",
     "text": [
      "        12\n"
     ]
    }
   ],
   "source": [
    "print(format(12,'10d'))"
   ]
  },
  {
   "cell_type": "code",
   "execution_count": 41,
   "metadata": {},
   "outputs": [
    {
     "name": "stdout",
     "output_type": "stream",
     "text": [
      "     12345\n"
     ]
    }
   ],
   "source": [
    "print('%10d'%(12345))"
   ]
  },
  {
   "cell_type": "code",
   "execution_count": 42,
   "metadata": {},
   "outputs": [
    {
     "name": "stdout",
     "output_type": "stream",
     "text": [
      "|     12345|\n"
     ]
    }
   ],
   "source": [
    "print('|%10d|'%(12345))"
   ]
  },
  {
   "cell_type": "code",
   "execution_count": 43,
   "metadata": {},
   "outputs": [
    {
     "name": "stdout",
     "output_type": "stream",
     "text": [
      "|12345|\n"
     ]
    }
   ],
   "source": [
    "print('|%3d|'%(12345))"
   ]
  },
  {
   "cell_type": "code",
   "execution_count": 44,
   "metadata": {},
   "outputs": [
    {
     "name": "stdout",
     "output_type": "stream",
     "text": [
      "|12345     |\n"
     ]
    }
   ],
   "source": [
    "print('|%-10d|'%(12345))"
   ]
  },
  {
   "cell_type": "code",
   "execution_count": 45,
   "metadata": {},
   "outputs": [
    {
     "name": "stdout",
     "output_type": "stream",
     "text": [
      "|  123.46|\n"
     ]
    }
   ],
   "source": [
    "print('|%8.2f|'%(123.456))"
   ]
  },
  {
   "cell_type": "code",
   "execution_count": 46,
   "metadata": {},
   "outputs": [
    {
     "name": "stdout",
     "output_type": "stream",
     "text": [
      "|    1.23|\n"
     ]
    }
   ],
   "source": [
    "print('|%8.2f|'%(1.23456))"
   ]
  },
  {
   "cell_type": "code",
   "execution_count": 47,
   "metadata": {},
   "outputs": [
    {
     "name": "stdout",
     "output_type": "stream",
     "text": [
      "| 1234.56|\n"
     ]
    }
   ],
   "source": [
    "print('|%8.2f|'%(1234.56))"
   ]
  },
  {
   "cell_type": "code",
   "execution_count": 48,
   "metadata": {},
   "outputs": [
    {
     "name": "stdout",
     "output_type": "stream",
     "text": [
      "|   12.35|\n"
     ]
    }
   ],
   "source": [
    "print('|%8.2f|'%(12.3456))"
   ]
  },
  {
   "cell_type": "code",
   "execution_count": 49,
   "metadata": {},
   "outputs": [
    {
     "name": "stdout",
     "output_type": "stream",
     "text": [
      "|12345.60|\n"
     ]
    }
   ],
   "source": [
    "print('|%8.2f|'%(12345.6))"
   ]
  },
  {
   "cell_type": "code",
   "execution_count": 50,
   "metadata": {},
   "outputs": [
    {
     "name": "stdout",
     "output_type": "stream",
     "text": [
      "|123.46|\n"
     ]
    }
   ],
   "source": [
    "print('|%.2f|'%(123.456))"
   ]
  },
  {
   "cell_type": "code",
   "execution_count": 51,
   "metadata": {},
   "outputs": [
    {
     "name": "stdout",
     "output_type": "stream",
     "text": [
      "|1.23|\n"
     ]
    }
   ],
   "source": [
    "print('|%.2f|'%(1.23456))"
   ]
  },
  {
   "cell_type": "code",
   "execution_count": 52,
   "metadata": {},
   "outputs": [
    {
     "name": "stdout",
     "output_type": "stream",
     "text": [
      "|1234.56|\n"
     ]
    }
   ],
   "source": [
    "print('|%.2f|'%(1234.56))"
   ]
  },
  {
   "cell_type": "code",
   "execution_count": 53,
   "metadata": {},
   "outputs": [
    {
     "name": "stdout",
     "output_type": "stream",
     "text": [
      "|12.35|\n"
     ]
    }
   ],
   "source": [
    "print('|%.2f|'%(12.3456))"
   ]
  },
  {
   "cell_type": "code",
   "execution_count": 54,
   "metadata": {},
   "outputs": [
    {
     "name": "stdout",
     "output_type": "stream",
     "text": [
      "|12345.60|\n"
     ]
    }
   ],
   "source": [
    "print('|%.2f|'%(12345.6))"
   ]
  },
  {
   "cell_type": "code",
   "execution_count": 55,
   "metadata": {},
   "outputs": [
    {
     "name": "stdout",
     "output_type": "stream",
     "text": [
      "|          Learning Python now!|\n"
     ]
    }
   ],
   "source": [
    "print('|%30s|'%('Learning Python now!'))"
   ]
  },
  {
   "cell_type": "code",
   "execution_count": 56,
   "metadata": {},
   "outputs": [
    {
     "name": "stdout",
     "output_type": "stream",
     "text": [
      "|Learning Python now!          |\n"
     ]
    }
   ],
   "source": [
    "print('|%-30s|'%('Learning Python now!'))"
   ]
  },
  {
   "cell_type": "code",
   "execution_count": 57,
   "metadata": {},
   "outputs": [
    {
     "name": "stdout",
     "output_type": "stream",
     "text": [
      "|Learning Python now!|\n"
     ]
    }
   ],
   "source": [
    "print('|%15s|'%('Learning Python now!'))"
   ]
  },
  {
   "cell_type": "code",
   "execution_count": 58,
   "metadata": {},
   "outputs": [
    {
     "name": "stdout",
     "output_type": "stream",
     "text": [
      "     12345        12   1234567\n"
     ]
    }
   ],
   "source": [
    "print('%10d%10d%10d'%(12345,12,1234567))"
   ]
  },
  {
   "cell_type": "code",
   "execution_count": 59,
   "metadata": {},
   "outputs": [
    {
     "name": "stdout",
     "output_type": "stream",
     "text": [
      "        12   1234567     12345\n"
     ]
    }
   ],
   "source": [
    "print('%10d%10d%10d'%(12,1234567,12345))"
   ]
  },
  {
   "cell_type": "code",
   "execution_count": 60,
   "metadata": {},
   "outputs": [
    {
     "name": "stdout",
     "output_type": "stream",
     "text": [
      "   1234567     12345        12\n"
     ]
    }
   ],
   "source": [
    "print('%10d%10d%10d'%(1234567,12345,12))"
   ]
  },
  {
   "cell_type": "code",
   "execution_count": 61,
   "metadata": {},
   "outputs": [
    {
     "name": "stdout",
     "output_type": "stream",
     "text": [
      "100% orange juice\n"
     ]
    }
   ],
   "source": [
    "print('%d%% orange juice'%(100))"
   ]
  },
  {
   "cell_type": "code",
   "execution_count": 62,
   "metadata": {},
   "outputs": [
    {
     "name": "stdout",
     "output_type": "stream",
     "text": [
      "123\n"
     ]
    }
   ],
   "source": [
    "print('{0}'.format(123))"
   ]
  },
  {
   "cell_type": "code",
   "execution_count": 63,
   "metadata": {},
   "outputs": [
    {
     "name": "stdout",
     "output_type": "stream",
     "text": [
      "123,12345\n"
     ]
    }
   ],
   "source": [
    "print('{0},{1}'.format(123,12345))"
   ]
  },
  {
   "cell_type": "code",
   "execution_count": 64,
   "metadata": {},
   "outputs": [
    {
     "name": "stdout",
     "output_type": "stream",
     "text": [
      "  123,  12345\n"
     ]
    }
   ],
   "source": [
    "print('{0:5d},{1:7d}'.format(123,12345))"
   ]
  },
  {
   "cell_type": "code",
   "execution_count": 65,
   "metadata": {},
   "outputs": [
    {
     "name": "stdout",
     "output_type": "stream",
     "text": [
      "x=  123,y=  12345\n"
     ]
    }
   ],
   "source": [
    "print('x={0:5d},y={1:7d}'.format(123,12345))"
   ]
  },
  {
   "cell_type": "code",
   "execution_count": 66,
   "metadata": {},
   "outputs": [
    {
     "name": "stdout",
     "output_type": "stream",
     "text": [
      "x=  123,y=  12345\n"
     ]
    }
   ],
   "source": [
    "print('x={p:5d},y={q:7d}'.format(p=123,q=12345))"
   ]
  },
  {
   "cell_type": "code",
   "execution_count": 67,
   "metadata": {},
   "outputs": [
    {
     "name": "stdout",
     "output_type": "stream",
     "text": [
      "a= 123.46,b=   123.46\n"
     ]
    }
   ],
   "source": [
    "print('a={0:7.2f},b={1:9.2f}'.format(123.456,123.456))"
   ]
  },
  {
   "cell_type": "code",
   "execution_count": 68,
   "metadata": {},
   "outputs": [
    {
     "name": "stdout",
     "output_type": "stream",
     "text": [
      "Kiwi     ,Banana \n"
     ]
    }
   ],
   "source": [
    "print('{p:9s},{q:7s}'.format(p='Kiwi',q='Banana'))"
   ]
  },
  {
   "cell_type": "code",
   "execution_count": 69,
   "metadata": {},
   "outputs": [
    {
     "name": "stdout",
     "output_type": "stream",
     "text": [
      "     Kiwi,   Banana\n"
     ]
    }
   ],
   "source": [
    "print('{p:>9s},{q:>9s}'.format(p='Kiwi',q='Banana'))"
   ]
  },
  {
   "cell_type": "code",
   "execution_count": 70,
   "metadata": {},
   "outputs": [
    {
     "name": "stdout",
     "output_type": "stream",
     "text": [
      "  Kiwi   , Banana  \n"
     ]
    }
   ],
   "source": [
    "print('{p:^9s},{q:^9s}'.format(p='Kiwi',q='Banana'))"
   ]
  },
  {
   "cell_type": "code",
   "execution_count": 71,
   "metadata": {},
   "outputs": [
    {
     "name": "stdout",
     "output_type": "stream",
     "text": [
      "21.0\n"
     ]
    }
   ],
   "source": [
    "a =7+8*2-6+8/2\n",
    "print(a)"
   ]
  },
  {
   "cell_type": "code",
   "execution_count": 72,
   "metadata": {},
   "outputs": [
    {
     "name": "stdout",
     "output_type": "stream",
     "text": [
      "23.0\n"
     ]
    }
   ],
   "source": [
    "b = (7+8)*2-(6+8)/2\n",
    "print(b)"
   ]
  },
  {
   "cell_type": "code",
   "execution_count": 73,
   "metadata": {},
   "outputs": [
    {
     "name": "stdout",
     "output_type": "stream",
     "text": [
      "Learning Python is fun\n"
     ]
    }
   ],
   "source": [
    "str1 ='Learning Python '+'is fun'\n",
    "print(str1)"
   ]
  },
  {
   "cell_type": "code",
   "execution_count": 74,
   "metadata": {},
   "outputs": [
    {
     "name": "stdout",
     "output_type": "stream",
     "text": [
      "Learning Python is fun\n"
     ]
    }
   ],
   "source": [
    "str2 = 'Learning Python '+\\\n",
    "'is fun'\n",
    "print(str2)"
   ]
  },
  {
   "cell_type": "code",
   "execution_count": 75,
   "metadata": {},
   "outputs": [
    {
     "name": "stdout",
     "output_type": "stream",
     "text": [
      "is your birthday in set1?\n",
      "1 3 5 7\n",
      "9 11 13 15\n",
      "17 19 21 23\n",
      "\n",
      " Enter 1 for Yes and 0 for No:\n"
     ]
    }
   ],
   "source": [
    "question1 ='is your birthday in set1?\\n'+\\\n",
    "'1 3 5 7\\n'+\\\n",
    "'9 11 13 15\\n'+\\\n",
    "'17 19 21 23\\n'+\\\n",
    "'\\n Enter 1 for Yes and 0 for No:'\n",
    "print(question1)"
   ]
  },
  {
   "cell_type": "code",
   "execution_count": 76,
   "metadata": {},
   "outputs": [
    {
     "name": "stdout",
     "output_type": "stream",
     "text": [
      "Hello,world\n",
      "Hello,world\n",
      "Hello,world\n"
     ]
    }
   ],
   "source": [
    "print('Hello,world')\n",
    "print('Hello,',end='')\n",
    "print('world')\n",
    "s ='Hello,'+\\\n",
    "   'world'\n",
    "print(s)"
   ]
  },
  {
   "cell_type": "code",
   "execution_count": 77,
   "metadata": {},
   "outputs": [
    {
     "data": {
      "text/plain": [
       "2.6666666666666665"
      ]
     },
     "execution_count": 77,
     "metadata": {},
     "output_type": "execute_result"
    }
   ],
   "source": [
    "8/3"
   ]
  },
  {
   "cell_type": "code",
   "execution_count": 78,
   "metadata": {},
   "outputs": [
    {
     "data": {
      "text/plain": [
       "2"
      ]
     },
     "execution_count": 78,
     "metadata": {},
     "output_type": "execute_result"
    }
   ],
   "source": [
    "8//3"
   ]
  },
  {
   "cell_type": "code",
   "execution_count": 79,
   "metadata": {},
   "outputs": [
    {
     "data": {
      "text/plain": [
       "64"
      ]
     },
     "execution_count": 79,
     "metadata": {},
     "output_type": "execute_result"
    }
   ],
   "source": [
    "8**2"
   ]
  },
  {
   "cell_type": "code",
   "execution_count": 80,
   "metadata": {},
   "outputs": [
    {
     "data": {
      "text/plain": [
       "10.0"
      ]
     },
     "execution_count": 80,
     "metadata": {},
     "output_type": "execute_result"
    }
   ],
   "source": [
    "100**0.5"
   ]
  },
  {
   "cell_type": "code",
   "execution_count": 81,
   "metadata": {},
   "outputs": [
    {
     "data": {
      "text/plain": [
       "2"
      ]
     },
     "execution_count": 81,
     "metadata": {},
     "output_type": "execute_result"
    }
   ],
   "source": [
    "8%3"
   ]
  },
  {
   "cell_type": "code",
   "execution_count": 82,
   "metadata": {},
   "outputs": [
    {
     "name": "stdout",
     "output_type": "stream",
     "text": [
      "100 100 100\n"
     ]
    }
   ],
   "source": [
    "i = 100\n",
    "j = 100\n",
    "k = 100\n",
    "print(i,j,k)"
   ]
  },
  {
   "cell_type": "code",
   "execution_count": 83,
   "metadata": {},
   "outputs": [
    {
     "name": "stdout",
     "output_type": "stream",
     "text": [
      "200 200 200\n"
     ]
    }
   ],
   "source": [
    "i = j = k = 200\n",
    "print(i,j,k)"
   ]
  },
  {
   "cell_type": "code",
   "execution_count": 84,
   "metadata": {},
   "outputs": [
    {
     "name": "stdout",
     "output_type": "stream",
     "text": [
      "100 200\n"
     ]
    }
   ],
   "source": [
    "a, b=100,200\n",
    "print(a,b)"
   ]
  },
  {
   "cell_type": "code",
   "execution_count": 85,
   "metadata": {},
   "outputs": [
    {
     "name": "stdout",
     "output_type": "stream",
     "text": [
      "200 100\n"
     ]
    }
   ],
   "source": [
    "a = 100\n",
    "b = 200\n",
    "temp = a\n",
    "a = b\n",
    "b = temp\n",
    "print(a,b)"
   ]
  },
  {
   "cell_type": "code",
   "execution_count": 86,
   "metadata": {},
   "outputs": [
    {
     "name": "stdout",
     "output_type": "stream",
     "text": [
      "200 100\n"
     ]
    }
   ],
   "source": [
    "a = 100\n",
    "b = 200\n",
    "a,b = b,a\n",
    "print(a,b)"
   ]
  },
  {
   "cell_type": "code",
   "execution_count": 87,
   "metadata": {},
   "outputs": [
    {
     "name": "stdout",
     "output_type": "stream",
     "text": [
      "12\n"
     ]
    }
   ],
   "source": [
    "a = 10\n",
    "a += 2\n",
    "print(a)"
   ]
  },
  {
   "cell_type": "code",
   "execution_count": 88,
   "metadata": {},
   "outputs": [
    {
     "name": "stdout",
     "output_type": "stream",
     "text": [
      "60\n"
     ]
    }
   ],
   "source": [
    "a*=5\n",
    "print(a)"
   ]
  },
  {
   "cell_type": "code",
   "execution_count": 89,
   "metadata": {},
   "outputs": [
    {
     "name": "stdout",
     "output_type": "stream",
     "text": [
      "20\n"
     ]
    }
   ],
   "source": [
    "a//=3\n",
    "print(a)"
   ]
  },
  {
   "cell_type": "code",
   "execution_count": 90,
   "metadata": {},
   "outputs": [
    {
     "name": "stdout",
     "output_type": "stream",
     "text": [
      "2\n"
     ]
    }
   ],
   "source": [
    "a%=6\n",
    "print(a)"
   ]
  },
  {
   "cell_type": "code",
   "execution_count": 91,
   "metadata": {},
   "outputs": [
    {
     "name": "stdout",
     "output_type": "stream",
     "text": [
      "3\n"
     ]
    }
   ],
   "source": [
    "k=eval(input())"
   ]
  },
  {
   "cell_type": "code",
   "execution_count": 92,
   "metadata": {},
   "outputs": [
    {
     "data": {
      "text/plain": [
       "3"
      ]
     },
     "execution_count": 92,
     "metadata": {},
     "output_type": "execute_result"
    }
   ],
   "source": [
    "k"
   ]
  },
  {
   "cell_type": "code",
   "execution_count": 93,
   "metadata": {},
   "outputs": [
    {
     "name": "stdout",
     "output_type": "stream",
     "text": [
      "3\n"
     ]
    }
   ],
   "source": [
    "print(k)"
   ]
  },
  {
   "cell_type": "code",
   "execution_count": 94,
   "metadata": {},
   "outputs": [
    {
     "name": "stdout",
     "output_type": "stream",
     "text": [
      "Please enter an integer:45\n"
     ]
    }
   ],
   "source": [
    "s=eval(input('Please enter an integer:'))"
   ]
  },
  {
   "cell_type": "code",
   "execution_count": 95,
   "metadata": {},
   "outputs": [
    {
     "data": {
      "text/plain": [
       "45"
      ]
     },
     "execution_count": 95,
     "metadata": {},
     "output_type": "execute_result"
    }
   ],
   "source": [
    "s"
   ]
  },
  {
   "cell_type": "code",
   "execution_count": 96,
   "metadata": {},
   "outputs": [
    {
     "name": "stdout",
     "output_type": "stream",
     "text": [
      "Please enter a string:Hello, world\n"
     ]
    }
   ],
   "source": [
    "s2=input('Please enter a string:')"
   ]
  },
  {
   "cell_type": "code",
   "execution_count": 97,
   "metadata": {},
   "outputs": [
    {
     "data": {
      "text/plain": [
       "'Hello, world'"
      ]
     },
     "execution_count": 97,
     "metadata": {},
     "output_type": "execute_result"
    }
   ],
   "source": [
    "s2"
   ]
  },
  {
   "cell_type": "code",
   "execution_count": 98,
   "metadata": {},
   "outputs": [
    {
     "name": "stdout",
     "output_type": "stream",
     "text": [
      "Hello, world\n"
     ]
    }
   ],
   "source": [
    "print(s2)"
   ]
  },
  {
   "cell_type": "code",
   "execution_count": 103,
   "metadata": {},
   "outputs": [
    {
     "name": "stdout",
     "output_type": "stream",
     "text": [
      "Please enter an integer:88\n"
     ]
    }
   ],
   "source": [
    "str2=input('Please enter an integer:')"
   ]
  },
  {
   "cell_type": "code",
   "execution_count": 104,
   "metadata": {},
   "outputs": [
    {
     "name": "stdout",
     "output_type": "stream",
     "text": [
      "88\n"
     ]
    }
   ],
   "source": [
    "print(str2)"
   ]
  },
  {
   "cell_type": "code",
   "execution_count": 105,
   "metadata": {},
   "outputs": [
    {
     "data": {
      "text/plain": [
       "'88'"
      ]
     },
     "execution_count": 105,
     "metadata": {},
     "output_type": "execute_result"
    }
   ],
   "source": [
    "str2"
   ]
  },
  {
   "cell_type": "code",
   "execution_count": 113,
   "metadata": {},
   "outputs": [
    {
     "name": "stdout",
     "output_type": "stream",
     "text": [
      "Please enter number1:100\n"
     ]
    }
   ],
   "source": [
    "num1=eval(input('Please enter number1:'))"
   ]
  },
  {
   "cell_type": "code",
   "execution_count": 114,
   "metadata": {},
   "outputs": [
    {
     "name": "stdout",
     "output_type": "stream",
     "text": [
      "Please enter number2:200\n"
     ]
    }
   ],
   "source": [
    "num2=eval(input('Please enter number2:'))"
   ]
  },
  {
   "cell_type": "code",
   "execution_count": 115,
   "metadata": {},
   "outputs": [
    {
     "name": "stdout",
     "output_type": "stream",
     "text": [
      "300\n"
     ]
    }
   ],
   "source": [
    "print(num1+num2)"
   ]
  },
  {
   "cell_type": "code",
   "execution_count": 116,
   "metadata": {},
   "outputs": [
    {
     "name": "stdout",
     "output_type": "stream",
     "text": [
      "Enter two numbers separated by comma:100,200\n"
     ]
    }
   ],
   "source": [
    "num1,num2=eval(input('Enter two numbers separated by comma:'))"
   ]
  },
  {
   "cell_type": "code",
   "execution_count": 117,
   "metadata": {},
   "outputs": [
    {
     "name": "stdout",
     "output_type": "stream",
     "text": [
      "300\n"
     ]
    }
   ],
   "source": [
    "print(num1+num2)"
   ]
  },
  {
   "cell_type": "code",
   "execution_count": 118,
   "metadata": {},
   "outputs": [
    {
     "name": "stdout",
     "output_type": "stream",
     "text": [
      "Enter two numbers separated by commas:100,150,170\n",
      "total=420,and average=140.000000\n"
     ]
    }
   ],
   "source": [
    "num1,num2,num3=eval(input('Enter two numbers separated by commas:'))\n",
    "total=num1+num2+num3\n",
    "average=total/3\n",
    "print('total=%d,and average=%f'%(total,average))"
   ]
  },
  {
   "cell_type": "code",
   "execution_count": 120,
   "metadata": {},
   "outputs": [
    {
     "name": "stdout",
     "output_type": "stream",
     "text": [
      "total=420,and average=140.00\n"
     ]
    }
   ],
   "source": [
    "print('total=%d,and average=%.2f'%(total,average))"
   ]
  },
  {
   "cell_type": "code",
   "execution_count": 124,
   "metadata": {},
   "outputs": [
    {
     "name": "stdout",
     "output_type": "stream",
     "text": [
      "Enter the radius:5\n",
      "Area=78.54\n",
      "Perimeter=31.42\n"
     ]
    }
   ],
   "source": [
    "radius=eval(input('Enter the radius:'))\n",
    "area=radius*radius*3.14159\n",
    "perimeter=2*3.14159*radius\n",
    "print('Area=%.2f'%(area))\n",
    "print('Perimeter=%.2f'%(perimeter))"
   ]
  },
  {
   "cell_type": "code",
   "execution_count": 125,
   "metadata": {},
   "outputs": [
    {
     "name": "stdout",
     "output_type": "stream",
     "text": [
      "Enter the radius:5\n",
      "Area=78.54\n"
     ]
    }
   ],
   "source": [
    "import math\n",
    "radius=eval(input('Enter the radius:'))\n",
    "area=radius*radius*math.pi\n",
    "perimeter=2*math.pi*radius\n",
    "print('Area=%.2f'%(area))"
   ]
  },
  {
   "cell_type": "code",
   "execution_count": 2,
   "metadata": {},
   "outputs": [
    {
     "name": "stdout",
     "output_type": "stream",
     "text": [
      "Enter three numbers separated by commas:11\n"
     ]
    },
    {
     "ename": "TypeError",
     "evalue": "cannot unpack non-iterable int object",
     "output_type": "error",
     "traceback": [
      "\u001b[0;31m---------------------------------------------------------------------------\u001b[0m",
      "\u001b[0;31mTypeError\u001b[0m                                 Traceback (most recent call last)",
      "\u001b[0;32m<ipython-input-2-9c69bf343299>\u001b[0m in \u001b[0;36m<module>\u001b[0;34m\u001b[0m\n\u001b[1;32m      1\u001b[0m \u001b[0;31m#input 3 integers then calculate total and average\u001b[0m\u001b[0;34m\u001b[0m\u001b[0;34m\u001b[0m\u001b[0;34m\u001b[0m\u001b[0m\n\u001b[0;32m----> 2\u001b[0;31m \u001b[0mnum1\u001b[0m\u001b[0;34m,\u001b[0m\u001b[0mnum2\u001b[0m\u001b[0;34m,\u001b[0m\u001b[0mnum3\u001b[0m\u001b[0;34m=\u001b[0m\u001b[0meval\u001b[0m\u001b[0;34m(\u001b[0m\u001b[0minput\u001b[0m\u001b[0;34m(\u001b[0m\u001b[0;34m'Enter three numbers separated by commas:'\u001b[0m\u001b[0;34m)\u001b[0m\u001b[0;34m)\u001b[0m\u001b[0;34m\u001b[0m\u001b[0;34m\u001b[0m\u001b[0m\n\u001b[0m\u001b[1;32m      3\u001b[0m \u001b[0;34m\u001b[0m\u001b[0m\n\u001b[1;32m      4\u001b[0m \u001b[0;34m\u001b[0m\u001b[0m\n\u001b[1;32m      5\u001b[0m \u001b[0;31m#calculate total and average\u001b[0m\u001b[0;34m\u001b[0m\u001b[0;34m\u001b[0m\u001b[0;34m\u001b[0m\u001b[0m\n",
      "\u001b[0;31mTypeError\u001b[0m: cannot unpack non-iterable int object"
     ]
    }
   ],
   "source": [
    "#input 3 integers then calculate total and average\n",
    "num1,num2,num3=eval(input('Enter three numbers separated by commas:'))\n",
    "\n",
    "\n",
    "#calculate total and average\n",
    "total=num1+num2+num3\n",
    "average=total/2\n",
    "\n",
    "\n",
    "#display total and average\n",
    "print('total=%d,and average=%.2f'%(total,average))"
   ]
  },
  {
   "cell_type": "code",
   "execution_count": 1,
   "metadata": {},
   "outputs": [
    {
     "data": {
      "text/plain": [
       "100"
      ]
     },
     "execution_count": 1,
     "metadata": {},
     "output_type": "execute_result"
    }
   ],
   "source": [
    "abs(-100)"
   ]
  },
  {
   "cell_type": "code",
   "execution_count": 2,
   "metadata": {},
   "outputs": [
    {
     "data": {
      "text/plain": [
       "100"
      ]
     },
     "execution_count": 2,
     "metadata": {},
     "output_type": "execute_result"
    }
   ],
   "source": [
    "max(12,23,100,58,60)"
   ]
  },
  {
   "cell_type": "code",
   "execution_count": 3,
   "metadata": {},
   "outputs": [
    {
     "data": {
      "text/plain": [
       "12"
      ]
     },
     "execution_count": 3,
     "metadata": {},
     "output_type": "execute_result"
    }
   ],
   "source": [
    "min(12,23,100,58,60)"
   ]
  },
  {
   "cell_type": "code",
   "execution_count": 4,
   "metadata": {},
   "outputs": [
    {
     "data": {
      "text/plain": [
       "32"
      ]
     },
     "execution_count": 4,
     "metadata": {},
     "output_type": "execute_result"
    }
   ],
   "source": [
    "pow(2,5)"
   ]
  },
  {
   "cell_type": "code",
   "execution_count": 6,
   "metadata": {},
   "outputs": [
    {
     "data": {
      "text/plain": [
       "7"
      ]
     },
     "execution_count": 6,
     "metadata": {},
     "output_type": "execute_result"
    }
   ],
   "source": [
    "round(6.6)"
   ]
  },
  {
   "cell_type": "code",
   "execution_count": 8,
   "metadata": {},
   "outputs": [
    {
     "data": {
      "text/plain": [
       "6"
      ]
     },
     "execution_count": 8,
     "metadata": {},
     "output_type": "execute_result"
    }
   ],
   "source": [
    "round(5.5)"
   ]
  },
  {
   "cell_type": "code",
   "execution_count": 9,
   "metadata": {},
   "outputs": [
    {
     "data": {
      "text/plain": [
       "4"
      ]
     },
     "execution_count": 9,
     "metadata": {},
     "output_type": "execute_result"
    }
   ],
   "source": [
    "round(4.5)"
   ]
  },
  {
   "cell_type": "code",
   "execution_count": 10,
   "metadata": {},
   "outputs": [
    {
     "data": {
      "text/plain": [
       "6.67"
      ]
     },
     "execution_count": 10,
     "metadata": {},
     "output_type": "execute_result"
    }
   ],
   "source": [
    "round(6.667,2)"
   ]
  },
  {
   "cell_type": "code",
   "execution_count": 11,
   "metadata": {},
   "outputs": [
    {
     "data": {
      "text/plain": [
       "6.66"
      ]
     },
     "execution_count": 11,
     "metadata": {},
     "output_type": "execute_result"
    }
   ],
   "source": [
    "round(6.663,2)"
   ]
  },
  {
   "cell_type": "code",
   "execution_count": 12,
   "metadata": {},
   "outputs": [
    {
     "data": {
      "text/plain": [
       "12"
      ]
     },
     "execution_count": 12,
     "metadata": {},
     "output_type": "execute_result"
    }
   ],
   "source": [
    "int(12.34)"
   ]
  },
  {
   "cell_type": "code",
   "execution_count": 13,
   "metadata": {},
   "outputs": [
    {
     "name": "stdout",
     "output_type": "stream",
     "text": [
      "44512\n"
     ]
    }
   ],
   "source": [
    "ans=8.5*8.5*8.5*8.5*8.5+(9.5-3)*(9.5-3)+100.2\n",
    "print(int(ans))"
   ]
  },
  {
   "cell_type": "code",
   "execution_count": 15,
   "metadata": {},
   "outputs": [
    {
     "data": {
      "text/plain": [
       "12.34"
      ]
     },
     "execution_count": 15,
     "metadata": {},
     "output_type": "execute_result"
    }
   ],
   "source": [
    "import math\n",
    "math.fabs(-12.34)"
   ]
  },
  {
   "cell_type": "code",
   "execution_count": 16,
   "metadata": {},
   "outputs": [
    {
     "data": {
      "text/plain": [
       "6"
      ]
     },
     "execution_count": 16,
     "metadata": {},
     "output_type": "execute_result"
    }
   ],
   "source": [
    "math.ceil(5.6)"
   ]
  },
  {
   "cell_type": "code",
   "execution_count": 17,
   "metadata": {},
   "outputs": [
    {
     "data": {
      "text/plain": [
       "5"
      ]
     },
     "execution_count": 17,
     "metadata": {},
     "output_type": "execute_result"
    }
   ],
   "source": [
    "math.floor(5.6)"
   ]
  },
  {
   "cell_type": "code",
   "execution_count": 18,
   "metadata": {},
   "outputs": [
    {
     "data": {
      "text/plain": [
       "2.718281828459045"
      ]
     },
     "execution_count": 18,
     "metadata": {},
     "output_type": "execute_result"
    }
   ],
   "source": [
    "math.exp(1)"
   ]
  },
  {
   "cell_type": "code",
   "execution_count": 19,
   "metadata": {},
   "outputs": [
    {
     "data": {
      "text/plain": [
       "0.999999327347282"
      ]
     },
     "execution_count": 19,
     "metadata": {},
     "output_type": "execute_result"
    }
   ],
   "source": [
    "math.log(2.71828)"
   ]
  },
  {
   "cell_type": "code",
   "execution_count": 20,
   "metadata": {},
   "outputs": [
    {
     "name": "stdout",
     "output_type": "stream",
     "text": [
      "1.00\n"
     ]
    }
   ],
   "source": [
    "print('%.2f'%math.log(2.71828))"
   ]
  },
  {
   "cell_type": "code",
   "execution_count": 21,
   "metadata": {},
   "outputs": [
    {
     "data": {
      "text/plain": [
       "1.0"
      ]
     },
     "execution_count": 21,
     "metadata": {},
     "output_type": "execute_result"
    }
   ],
   "source": [
    "math.log(math.e)"
   ]
  },
  {
   "cell_type": "code",
   "execution_count": 22,
   "metadata": {},
   "outputs": [
    {
     "data": {
      "text/plain": [
       "2.9999999999999996"
      ]
     },
     "execution_count": 22,
     "metadata": {},
     "output_type": "execute_result"
    }
   ],
   "source": [
    "math.log(1000,10)"
   ]
  },
  {
   "cell_type": "code",
   "execution_count": 23,
   "metadata": {},
   "outputs": [
    {
     "data": {
      "text/plain": [
       "10.0"
      ]
     },
     "execution_count": 23,
     "metadata": {},
     "output_type": "execute_result"
    }
   ],
   "source": [
    "math.sqrt(100)"
   ]
  },
  {
   "cell_type": "code",
   "execution_count": 24,
   "metadata": {},
   "outputs": [
    {
     "data": {
      "text/plain": [
       "0.0"
      ]
     },
     "execution_count": 24,
     "metadata": {},
     "output_type": "execute_result"
    }
   ],
   "source": [
    "math.sin(0)"
   ]
  },
  {
   "cell_type": "code",
   "execution_count": 25,
   "metadata": {},
   "outputs": [
    {
     "data": {
      "text/plain": [
       "1.0"
      ]
     },
     "execution_count": 25,
     "metadata": {},
     "output_type": "execute_result"
    }
   ],
   "source": [
    "math.sin(1/2*math.pi)"
   ]
  },
  {
   "cell_type": "code",
   "execution_count": 26,
   "metadata": {},
   "outputs": [
    {
     "data": {
      "text/plain": [
       "1.2246467991473532e-16"
      ]
     },
     "execution_count": 26,
     "metadata": {},
     "output_type": "execute_result"
    }
   ],
   "source": [
    "math.sin(math.pi)"
   ]
  },
  {
   "cell_type": "code",
   "execution_count": 27,
   "metadata": {},
   "outputs": [
    {
     "data": {
      "text/plain": [
       "-1.0"
      ]
     },
     "execution_count": 27,
     "metadata": {},
     "output_type": "execute_result"
    }
   ],
   "source": [
    "math.sin(3/2*math.pi)"
   ]
  },
  {
   "cell_type": "code",
   "execution_count": 28,
   "metadata": {},
   "outputs": [
    {
     "data": {
      "text/plain": [
       "-2.4492935982947064e-16"
      ]
     },
     "execution_count": 28,
     "metadata": {},
     "output_type": "execute_result"
    }
   ],
   "source": [
    "math.sin(2*math.pi)"
   ]
  },
  {
   "cell_type": "code",
   "execution_count": 29,
   "metadata": {},
   "outputs": [
    {
     "data": {
      "text/plain": [
       "1.0"
      ]
     },
     "execution_count": 29,
     "metadata": {},
     "output_type": "execute_result"
    }
   ],
   "source": [
    "math.cos(0)"
   ]
  },
  {
   "cell_type": "code",
   "execution_count": 30,
   "metadata": {},
   "outputs": [
    {
     "data": {
      "text/plain": [
       "6.123233995736766e-17"
      ]
     },
     "execution_count": 30,
     "metadata": {},
     "output_type": "execute_result"
    }
   ],
   "source": [
    "math.cos(1/2*math.pi)"
   ]
  },
  {
   "cell_type": "code",
   "execution_count": 32,
   "metadata": {},
   "outputs": [
    {
     "data": {
      "text/plain": [
       "-1.0"
      ]
     },
     "execution_count": 32,
     "metadata": {},
     "output_type": "execute_result"
    }
   ],
   "source": [
    "math.cos(math.pi)"
   ]
  },
  {
   "cell_type": "code",
   "execution_count": 33,
   "metadata": {},
   "outputs": [
    {
     "data": {
      "text/plain": [
       "-1.8369701987210297e-16"
      ]
     },
     "execution_count": 33,
     "metadata": {},
     "output_type": "execute_result"
    }
   ],
   "source": [
    "math.cos(3/2*math.pi)"
   ]
  },
  {
   "cell_type": "code",
   "execution_count": 34,
   "metadata": {},
   "outputs": [
    {
     "data": {
      "text/plain": [
       "1.0"
      ]
     },
     "execution_count": 34,
     "metadata": {},
     "output_type": "execute_result"
    }
   ],
   "source": [
    "math.cos(2*math.pi)"
   ]
  },
  {
   "cell_type": "code",
   "execution_count": 35,
   "metadata": {},
   "outputs": [
    {
     "data": {
      "text/plain": [
       "0.0"
      ]
     },
     "execution_count": 35,
     "metadata": {},
     "output_type": "execute_result"
    }
   ],
   "source": [
    "math.tan(0)"
   ]
  },
  {
   "cell_type": "code",
   "execution_count": 36,
   "metadata": {},
   "outputs": [
    {
     "data": {
      "text/plain": [
       "0.9999999999999997"
      ]
     },
     "execution_count": 36,
     "metadata": {},
     "output_type": "execute_result"
    }
   ],
   "source": [
    "math.tan(5/4*math.pi)"
   ]
  },
  {
   "cell_type": "code",
   "execution_count": 39,
   "metadata": {},
   "outputs": [
    {
     "data": {
      "text/plain": [
       "-0.9999999999999999"
      ]
     },
     "execution_count": 39,
     "metadata": {},
     "output_type": "execute_result"
    }
   ],
   "source": [
    "math.tan(-1/4*math.pi)"
   ]
  },
  {
   "cell_type": "code",
   "execution_count": 38,
   "metadata": {},
   "outputs": [
    {
     "data": {
      "text/plain": [
       "-1.0000000000000002"
      ]
     },
     "execution_count": 38,
     "metadata": {},
     "output_type": "execute_result"
    }
   ],
   "source": [
    "math.tan(3/4*math.pi)"
   ]
  },
  {
   "cell_type": "code",
   "execution_count": 40,
   "metadata": {},
   "outputs": [
    {
     "data": {
      "text/plain": [
       "-1.2246467991473532e-16"
      ]
     },
     "execution_count": 40,
     "metadata": {},
     "output_type": "execute_result"
    }
   ],
   "source": [
    "math.tan(math.pi)"
   ]
  },
  {
   "cell_type": "code",
   "execution_count": 41,
   "metadata": {},
   "outputs": [
    {
     "data": {
      "text/plain": [
       "0.0"
      ]
     },
     "execution_count": 41,
     "metadata": {},
     "output_type": "execute_result"
    }
   ],
   "source": [
    "math.tan(0)"
   ]
  },
  {
   "cell_type": "code",
   "execution_count": 42,
   "metadata": {},
   "outputs": [
    {
     "data": {
      "text/plain": [
       "1.5707963267948966"
      ]
     },
     "execution_count": 42,
     "metadata": {},
     "output_type": "execute_result"
    }
   ],
   "source": [
    "math.radians(90)"
   ]
  },
  {
   "cell_type": "code",
   "execution_count": 43,
   "metadata": {},
   "outputs": [
    {
     "data": {
      "text/plain": [
       "3.141592653589793"
      ]
     },
     "execution_count": 43,
     "metadata": {},
     "output_type": "execute_result"
    }
   ],
   "source": [
    "math.radians(180)"
   ]
  },
  {
   "cell_type": "code",
   "execution_count": 46,
   "metadata": {},
   "outputs": [
    {
     "data": {
      "text/plain": [
       "90.0"
      ]
     },
     "execution_count": 46,
     "metadata": {},
     "output_type": "execute_result"
    }
   ],
   "source": [
    "math.degrees(1/2*math.pi)"
   ]
  },
  {
   "cell_type": "code",
   "execution_count": 47,
   "metadata": {},
   "outputs": [
    {
     "data": {
      "text/plain": [
       "180.0"
      ]
     },
     "execution_count": 47,
     "metadata": {},
     "output_type": "execute_result"
    }
   ],
   "source": [
    "math.degrees(math.pi)"
   ]
  },
  {
   "cell_type": "code",
   "execution_count": 48,
   "metadata": {},
   "outputs": [
    {
     "name": "stdout",
     "output_type": "stream",
     "text": [
      "Enter the length of side:6.5\n",
      "72.69017017488385\n"
     ]
    }
   ],
   "source": [
    "import math\n",
    "side = eval(input('Enter the length of side:'))\n",
    "area = (5*side*side)/(4*math.tan(math.pi/5))\n",
    "print(area)"
   ]
  },
  {
   "cell_type": "code",
   "execution_count": 56,
   "metadata": {},
   "outputs": [
    {
     "ename": "SyntaxError",
     "evalue": "invalid syntax (<ipython-input-56-0d053e8ec389>, line 5)",
     "output_type": "error",
     "traceback": [
      "\u001b[0;36m  File \u001b[0;32m\"<ipython-input-56-0d053e8ec389>\"\u001b[0;36m, line \u001b[0;32m5\u001b[0m\n\u001b[0;31m    sd = math.sqrt(variance)\u001b[0m\n\u001b[0m    ^\u001b[0m\n\u001b[0;31mSyntaxError\u001b[0m\u001b[0;31m:\u001b[0m invalid syntax\n"
     ]
    }
   ],
   "source": [
    "import math\n",
    "n1,n2,n3 = eval(input('Enter threes numbers:'))\n",
    "mean = (n1+n2+n3)/3\n",
    "variance = (pow((n1-mean),2)+pow((n2-mean,2)+pow((n3-mean),2))/3\n",
    "sd = math.sqrt(variance)\n",
    "            \n",
    "            \n",
    "print('variance is %.2f,and standand deviation is %.2f'%(variance,sd))"
   ]
  },
  {
   "cell_type": "code",
   "execution_count": 57,
   "metadata": {},
   "outputs": [
    {
     "data": {
      "text/plain": [
       "'12.3'"
      ]
     },
     "execution_count": 57,
     "metadata": {},
     "output_type": "execute_result"
    }
   ],
   "source": [
    "str(12.3)"
   ]
  },
  {
   "cell_type": "code",
   "execution_count": 58,
   "metadata": {},
   "outputs": [
    {
     "data": {
      "text/plain": [
       "'12'"
      ]
     },
     "execution_count": 58,
     "metadata": {},
     "output_type": "execute_result"
    }
   ],
   "source": [
    "str(12)"
   ]
  },
  {
   "cell_type": "code",
   "execution_count": 59,
   "metadata": {},
   "outputs": [
    {
     "data": {
      "text/plain": [
       "65"
      ]
     },
     "execution_count": 59,
     "metadata": {},
     "output_type": "execute_result"
    }
   ],
   "source": [
    "ord('A')"
   ]
  },
  {
   "cell_type": "code",
   "execution_count": 60,
   "metadata": {},
   "outputs": [
    {
     "data": {
      "text/plain": [
       "97"
      ]
     },
     "execution_count": 60,
     "metadata": {},
     "output_type": "execute_result"
    }
   ],
   "source": [
    "ord('a')"
   ]
  },
  {
   "cell_type": "code",
   "execution_count": 61,
   "metadata": {},
   "outputs": [
    {
     "data": {
      "text/plain": [
       "'A'"
      ]
     },
     "execution_count": 61,
     "metadata": {},
     "output_type": "execute_result"
    }
   ],
   "source": [
    "chr(65)"
   ]
  },
  {
   "cell_type": "code",
   "execution_count": 62,
   "metadata": {},
   "outputs": [
    {
     "data": {
      "text/plain": [
       "'a'"
      ]
     },
     "execution_count": 62,
     "metadata": {},
     "output_type": "execute_result"
    }
   ],
   "source": [
    "chr(97)"
   ]
  },
  {
   "cell_type": "code",
   "execution_count": 4,
   "metadata": {},
   "outputs": [
    {
     "name": "stdout",
     "output_type": "stream",
     "text": [
      "x=70\n"
     ]
    }
   ],
   "source": [
    "x=65\n",
    "if x>60:\n",
    "    x=x+5\n",
    "print('x=%d'%(x))"
   ]
  },
  {
   "cell_type": "code",
   "execution_count": 49,
   "metadata": {},
   "outputs": [
    {
     "name": "stdout",
     "output_type": "stream",
     "text": [
      "請輸入分子：0\n",
      "請輸入分母：1\n",
      "0 / 1 = 0.0\n",
      "Over\n"
     ]
    }
   ],
   "source": [
    "numerator = eval(input(\"請輸入分子：\"))\n",
    "denominator = eval(input(\"請輸入分母：\"))\n",
    "if denominator!=0:\n",
    "    ans = numerator/denominator\n",
    "print(numerator,\"/\",denominator,\"=\",ans)\n",
    "print(\"Over\")"
   ]
  },
  {
   "cell_type": "code",
   "execution_count": 20,
   "metadata": {},
   "outputs": [
    {
     "name": "stdout",
     "output_type": "stream",
     "text": [
      "請輸入分子：125\n",
      "請輸入分母：25\n",
      "125 / 25 = 5.0\n",
      "Over\n"
     ]
    }
   ],
   "source": [
    "numerator = eval(input(\"請輸入分子：\"))\n",
    "denominator = eval(input(\"請輸入分母：\"))\n",
    "if denominator!=0:\n",
    "    ans = numerator/denominator\n",
    "    print(numerator,\"/\",denominator,\"=\",ans)\n",
    "else:\n",
    "    print(\"分母不可為0\")\n",
    "print(\"Over\")"
   ]
  },
  {
   "cell_type": "code",
   "execution_count": 21,
   "metadata": {},
   "outputs": [
    {
     "name": "stdout",
     "output_type": "stream",
     "text": [
      "請輸入分子：125\n",
      "請輸入分母：0\n",
      "分母不可為0\n",
      "Over\n"
     ]
    }
   ],
   "source": [
    "numerator = eval(input(\"請輸入分子：\"))\n",
    "denominator = eval(input(\"請輸入分母：\"))\n",
    "if denominator!=0:\n",
    "    ans = numerator/denominator\n",
    "    print(numerator,\"/\",denominator,\"=\",ans)\n",
    "else:\n",
    "    print(\"分母不可為0\")\n",
    "print(\"Over\")"
   ]
  },
  {
   "cell_type": "code",
   "execution_count": 27,
   "metadata": {},
   "outputs": [
    {
     "name": "stdout",
     "output_type": "stream",
     "text": [
      "Please input a number：88\n",
      "88 is an even number.\n",
      "Over\n"
     ]
    }
   ],
   "source": [
    "number = eval(input(\"Please input a number：\"))\n",
    "if number%2==0:\n",
    "    print(number,\"is an even number.\")\n",
    "else:\n",
    "    print(number,\"is an odd number.\")\n",
    "print(\"Over\")"
   ]
  },
  {
   "cell_type": "code",
   "execution_count": 28,
   "metadata": {},
   "outputs": [
    {
     "name": "stdout",
     "output_type": "stream",
     "text": [
      "Please input a number：89\n",
      "89 is an odd number.\n",
      "Over\n"
     ]
    }
   ],
   "source": [
    "number = eval(input(\"Please input a number：\"))\n",
    "if number%2==0:\n",
    "    print(number,\"is an even number.\")\n",
    "else:\n",
    "    print(number,\"is an odd number.\")\n",
    "print(\"Over\")"
   ]
  },
  {
   "cell_type": "code",
   "execution_count": 29,
   "metadata": {},
   "outputs": [
    {
     "name": "stdout",
     "output_type": "stream",
     "text": [
      "Please input a number：20\n",
      "20 is greater than 0\n",
      "Over\n"
     ]
    }
   ],
   "source": [
    "number = eval(input(\"Please input a number：\"))\n",
    "if number>0:\n",
    "    print(number,\"is greater than 0\")\n",
    "else:\n",
    "    if number<0:\n",
    "        print(number,\"is less than 0\")\n",
    "    else:\n",
    "        print(number,\"is equal to 0\")\n",
    "print(\"Over\")"
   ]
  },
  {
   "cell_type": "code",
   "execution_count": 30,
   "metadata": {},
   "outputs": [
    {
     "name": "stdout",
     "output_type": "stream",
     "text": [
      "Please input a number：10\n",
      "10 is greater than 0\n",
      "Over\n"
     ]
    }
   ],
   "source": [
    "number = eval(input(\"Please input a number：\"))\n",
    "if number>0:\n",
    "    print(number,\"is greater than 0\")\n",
    "else:\n",
    "    if number<0:\n",
    "        print(number,\"is less than 0\")\n",
    "    else:\n",
    "        print(number,\"is equal to 0\")\n",
    "print(\"Over\")"
   ]
  },
  {
   "cell_type": "code",
   "execution_count": 31,
   "metadata": {},
   "outputs": [
    {
     "name": "stdout",
     "output_type": "stream",
     "text": [
      "Please input a number：0\n",
      "0 is equal to 0\n",
      "Over\n"
     ]
    }
   ],
   "source": [
    "number = eval(input(\"Please input a number：\"))\n",
    "if number>0:\n",
    "    print(number,\"is greater than 0\")\n",
    "else:\n",
    "    if number<0:\n",
    "        print(number,\"is less than 0\")\n",
    "    else:\n",
    "        print(number,\"is equal to 0\")\n",
    "print(\"Over\")"
   ]
  },
  {
   "cell_type": "code",
   "execution_count": 9,
   "metadata": {},
   "outputs": [
    {
     "name": "stdout",
     "output_type": "stream",
     "text": [
      "Please input a number：20\n",
      "20 is greater than 0\n",
      "Over\n"
     ]
    }
   ],
   "source": [
    "number = eval(input(\"Please input a number：\"))\n",
    "if number>0:\n",
    "    print(number,\"is greater than 0\")\n",
    "else:\n",
    "    if number<0:\n",
    "        print(number,\"is less than 0\")\n",
    "    else:\n",
    "        print(number,\"is equal to 0\")\n",
    "print(\"Over\")"
   ]
  },
  {
   "cell_type": "code",
   "execution_count": 38,
   "metadata": {},
   "outputs": [
    {
     "name": "stdout",
     "output_type": "stream",
     "text": [
      "Please input a score：86\n",
      "Grade A\n"
     ]
    }
   ],
   "source": [
    "score = eval(input(\"Please input a score：\"))\n",
    "if score>=80:\n",
    "    print(\"Grade A\")\n",
    "elif score>=70:\n",
    "        print(\"Grade B\")\n",
    "elif score>=60:\n",
    "        print(\"Grade C\")\n",
    "elif score>=50:\n",
    "        print(\"Grade D\")\n",
    "elif score>=40:\n",
    "        print(\"Grade E\")"
   ]
  },
  {
   "cell_type": "code",
   "execution_count": 37,
   "metadata": {},
   "outputs": [
    {
     "name": "stdout",
     "output_type": "stream",
     "text": [
      "Please input a score：62\n",
      "Grade C\n"
     ]
    }
   ],
   "source": [
    "score = eval(input(\"Please input a score：\"))\n",
    "if score>=80:\n",
    "    print(\"Grade A\")\n",
    "elif score>=70:\n",
    "        print(\"Grade B\")\n",
    "elif score>=60:\n",
    "        print(\"Grade C\")\n",
    "elif score>=50:\n",
    "        print(\"Grade D\")\n",
    "elif score>=40:\n",
    "        print(\"Grade E\")"
   ]
  },
  {
   "cell_type": "code",
   "execution_count": 45,
   "metadata": {},
   "outputs": [
    {
     "name": "stdout",
     "output_type": "stream",
     "text": [
      "Please input your weight(kilogram)：67\n",
      "Please input your height(centimeter)：185\n",
      "Your BMI is 19.58\n",
      "Normal\n"
     ]
    }
   ],
   "source": [
    "weight = eval(input(\"Please input your weight(kilogram)：\"))\n",
    "height = eval(input(\"Please input your height(centimeter)：\"))\n",
    "heightInCentimeter = height/100\n",
    "\n",
    "\n",
    "bmi = weight/(heightInCentimeter*heightInCentimeter)\n",
    "print(\"Your BMI is\",format(bmi,\".2f\"))\n",
    "\n",
    "\n",
    "if bmi<18.5:\n",
    "    print(\"Underweight\")\n",
    "elif bmi <25:\n",
    "    print(\"Normal\")\n",
    "elif bmi <30:\n",
    "    print(\"Overweight\")\n",
    "else:\n",
    "    print(\"Obese\")\n",
    "    "
   ]
  },
  {
   "cell_type": "code",
   "execution_count": 50,
   "metadata": {},
   "outputs": [
    {
     "name": "stdout",
     "output_type": "stream",
     "text": [
      "Please enter which year?2020\n",
      "2020 is leap year\n"
     ]
    }
   ],
   "source": [
    "year = eval(input(\"Please enter which year?\"))\n",
    "if year % 400 == 0 or (year % 4 == 0 and year % 100!=0):\n",
    "    print(year,\"is leap year\")\n",
    "else:\n",
    "    print(year,\"is not leap year\")"
   ]
  },
  {
   "cell_type": "code",
   "execution_count": 10,
   "metadata": {},
   "outputs": [
    {
     "name": "stdout",
     "output_type": "stream",
     "text": [
      "Please enter which year?2020\n",
      "2020 is leap year\n"
     ]
    }
   ],
   "source": [
    "year = eval(input(\"Please enter which year?\"))\n",
    "cond1 = year % 400==0\n",
    "cond2 = year % 4==0\n",
    "cond3 = year % 100!=0\n",
    "if cond1 or(cond2 and cond3):\n",
    "    print(year,\"is leap year\")\n",
    "else:\n",
    "    print(year,\"is not leap year\")"
   ]
  },
  {
   "cell_type": "code",
   "execution_count": 52,
   "metadata": {},
   "outputs": [
    {
     "name": "stdout",
     "output_type": "stream",
     "text": [
      "Plaese enter a number:-100\n",
      "100\n"
     ]
    }
   ],
   "source": [
    "number = eval(input(\"Plaese enter a number:\"))\n",
    "\n",
    "if number>=0:\n",
    "    print(number)\n",
    "else:\n",
    "    print(-number)"
   ]
  },
  {
   "cell_type": "code",
   "execution_count": 53,
   "metadata": {},
   "outputs": [
    {
     "name": "stdout",
     "output_type": "stream",
     "text": [
      "Plaese enter a number:100\n",
      "100\n"
     ]
    }
   ],
   "source": [
    "number = eval(input(\"Plaese enter a number:\"))\n",
    "\n",
    "if number>=0:\n",
    "    print(number)\n",
    "else:\n",
    "    print(-number)"
   ]
  },
  {
   "cell_type": "code",
   "execution_count": 54,
   "metadata": {},
   "outputs": [
    {
     "name": "stdout",
     "output_type": "stream",
     "text": [
      "Please input a score：90\n",
      "you pass\n"
     ]
    }
   ],
   "source": [
    "score = eval(input(\"Please input a score：\"))\n",
    "if score>=60:\n",
    "    print('you pass')\n",
    "else:\n",
    "    print('you fall')"
   ]
  },
  {
   "cell_type": "code",
   "execution_count": 56,
   "metadata": {},
   "outputs": [
    {
     "name": "stdout",
     "output_type": "stream",
     "text": [
      "Please input a score：50\n",
      "you fall\n"
     ]
    }
   ],
   "source": [
    "score = eval(input(\"Please input a score：\"))\n",
    "if score>=60:\n",
    "    print('you pass')\n",
    "else:\n",
    "    print('you fall')"
   ]
  },
  {
   "cell_type": "code",
   "execution_count": 68,
   "metadata": {},
   "outputs": [
    {
     "name": "stdout",
     "output_type": "stream",
     "text": [
      "Enter number1:88\n",
      "Enter number2:66\n",
      "Enter an arithmetic operator(+,-,*,/):-\n",
      "88.0000- 66.0000= 22.0000\n"
     ]
    }
   ],
   "source": [
    "if flag !=1:number1 = eval(input('Enter number1:'))\n",
    "number2 = eval(input('Enter number2:'))\n",
    "\n",
    "\n",
    "operator = input('Enter an arithmetic operator(+,-,*,/):')\n",
    "result = 0\n",
    "flag = 0\n",
    "if operator ==\"+\":\n",
    "    result = number1+number2\n",
    "elif operator ==\"-\":\n",
    "    result = number1-number2\n",
    "elif operator ==\"*\":\n",
    "    result = number1*number2\n",
    "elif operator ==\"/\":\n",
    "    result = number1/number2\n",
    "else:\n",
    "    flag = 1\n",
    "    print('Invalid operator')\n",
    "                \n",
    "    print('%.4f%c %.4f= %.4f' %(number1,operator,number2,result))  "
   ]
  },
  {
   "cell_type": "code",
   "execution_count": 69,
   "metadata": {},
   "outputs": [
    {
     "name": "stdout",
     "output_type": "stream",
     "text": [
      "Enter number1:100\n",
      "Enter number2:200\n",
      "Enter an arithmetic operator(+,-,*,/):+\n",
      "100.0000+ 200.0000= 300.0000\n"
     ]
    }
   ],
   "source": [
    "number1 = eval(input('Enter number1:'))\n",
    "number2 = eval(input('Enter number2:'))\n",
    "\n",
    "\n",
    "operator = input('Enter an arithmetic operator(+,-,*,/):')\n",
    "result = 0\n",
    "flag = 0\n",
    "if operator ==\"+\":\n",
    "    result = number1+number2\n",
    "elif operator ==\"-\":\n",
    "    result = number1-number2\n",
    "elif operator ==\"*\":\n",
    "    result = number1*number2\n",
    "elif operator ==\"/\":\n",
    "    result = number1/number2\n",
    "else:\n",
    "    flag = 1\n",
    "    print('Invalid operator')\n",
    "                \n",
    "                \n",
    "if flag !=1:\n",
    "    print('%.4f%c %.4f= %.4f' %(number1,operator,number2,result))  "
   ]
  },
  {
   "cell_type": "code",
   "execution_count": 11,
   "metadata": {},
   "outputs": [
    {
     "name": "stdout",
     "output_type": "stream",
     "text": [
      "請輸入年齡：18\n",
      "您的年齡屬於青年\n"
     ]
    }
   ],
   "source": [
    "age = eval(input('請輸入年齡：'))\n",
    "state = ''\n",
    "\n",
    "if age<6:\n",
    "    state ='童年'\n",
    "elif age <=17:\n",
    "    state ='少年'\n",
    "elif age <=40:\n",
    "    state ='青年'\n",
    "elif age <=65:\n",
    "    state ='中年'\n",
    "else:\n",
    "    state ='老年'\n",
    "    \n",
    "print('您的年齡屬於%s'%state)"
   ]
  },
  {
   "cell_type": "code",
   "execution_count": 3,
   "metadata": {},
   "outputs": [
    {
     "name": "stdout",
     "output_type": "stream",
     "text": [
      "請輸入年齡：45\n",
      "您的年齡屬於中年\n"
     ]
    }
   ],
   "source": [
    "age = eval(input('請輸入年齡：'))\n",
    "state = ''\n",
    "\n",
    "if age<6:\n",
    "    state ='童年'\n",
    "elif age <=17:\n",
    "    state ='少年'\n",
    "elif age <=40:\n",
    "    state ='青年'\n",
    "elif age <=65:\n",
    "    state ='中年'\n",
    "else:\n",
    "    state ='老年'\n",
    "    \n",
    "print('您的年齡屬於%s'%state)\n"
   ]
  },
  {
   "cell_type": "code",
   "execution_count": 8,
   "metadata": {},
   "outputs": [
    {
     "name": "stdout",
     "output_type": "stream",
     "text": [
      "Is your birthday in set1?\n",
      "1 3 5 7\n",
      "9 11 13 15\n",
      "17 19 21 23\n",
      "25 27 29 31\n",
      "\n",
      "Enter 1 for Yes and 0 for No:1\n",
      "Is your birthday in set2?\n",
      "2 3 6 7\n",
      "10 11 14 15\n",
      "18 19 22 23\n",
      "26 27 30 31\n",
      "\n",
      "Enter 1 for Yes and 0 for No:0\n",
      "Is your birthday in set3?\n",
      "4 5 6 7 \n",
      "12 13 14 15\n",
      "20 21 22 23\n",
      "28 29 30 31\n",
      "\n",
      "Enter 1 for Yes and 0 for No:1\n",
      "Is your birthday in set1?\n",
      "8 9 10 11\n",
      "12 13 14 15\n",
      "24 25 26 27\n",
      "28 29 30 31\n",
      "\n",
      "Enter 1 for Yes and 0 for No:1\n",
      "Is your birthday in set1?\n",
      "16 17 18 19\n",
      "20 21 22 23\n",
      "24 25 26 27\n",
      "28 29 30 31\n",
      "\n",
      "Enter 1 for Yes and 0 for No:0\n",
      "Your birthday is 13\n"
     ]
    }
   ],
   "source": [
    "day = 0\n",
    "question1 =\"Is your birthday in set1?\\n\"+\\\n",
    "       \"1 3 5 7\\n\"+\\\n",
    "       \"9 11 13 15\\n\"+\\\n",
    "       \"17 19 21 23\\n\"+\\\n",
    "       \"25 27 29 31\\n\"+\\\n",
    "       \"\\nEnter 1 for Yes and 0 for No:\"\n",
    "answer=eval(input(question1))\n",
    "\n",
    "\n",
    "if answer ==1:\n",
    "  day+=1\n",
    "    \n",
    "    \n",
    "question2=\"Is your birthday in set2?\\n\"+\\\n",
    "       \"2 3 6 7\\n\"+\\\n",
    "       \"10 11 14 15\\n\"+\\\n",
    "       \"18 19 22 23\\n\"+\\\n",
    "       \"26 27 30 31\\n\"+\\\n",
    "       \"\\nEnter 1 for Yes and 0 for No:\"\n",
    "answer = eval(input(question2))\n",
    "\n",
    "\n",
    "if answer==1:\n",
    "    day+=2\n",
    "    \n",
    "    \n",
    "question3=\"Is your birthday in set3?\\n\"+\\\n",
    "    \"4 5 6 7 \\n\"+\\\n",
    "    \"12 13 14 15\\n\"+\\\n",
    "    \"20 21 22 23\\n\"+\\\n",
    "    \"28 29 30 31\\n\"+\\\n",
    "    \"\\nEnter 1 for Yes and 0 for No:\"\n",
    "answer = eval(input(question3))\n",
    "\n",
    "\n",
    "if answer==1:\n",
    "    day+=4\n",
    "question4 =\"Is your birthday in set1?\\n\"+\\\n",
    "       \"8 9 10 11\\n\"+\\\n",
    "       \"12 13 14 15\\n\"+\\\n",
    "       \"24 25 26 27\\n\"+\\\n",
    "       \"28 29 30 31\\n\"+\\\n",
    "       \"\\nEnter 1 for Yes and 0 for No:\"\n",
    "answer = eval(input(question4))\n",
    "\n",
    "\n",
    "if answer==1:\n",
    "    day+=8   \n",
    "question5 =\"Is your birthday in set1?\\n\"+\\\n",
    "       \"16 17 18 19\\n\"+\\\n",
    "       \"20 21 22 23\\n\"+\\\n",
    "       \"24 25 26 27\\n\"+\\\n",
    "       \"28 29 30 31\\n\"+\\\n",
    "       \"\\nEnter 1 for Yes and 0 for No:\"\n",
    "answer = eval(input(question5))\n",
    "\n",
    "\n",
    "if answer==1:\n",
    "    day+=16\n",
    "    \n",
    "print(\"Your birthday is\",day)"
   ]
  },
  {
   "cell_type": "code",
   "execution_count": 1,
   "metadata": {},
   "outputs": [
    {
     "ename": "SyntaxError",
     "evalue": "EOL while scanning string literal (<ipython-input-1-2cc34b18bb52>, line 3)",
     "output_type": "error",
     "traceback": [
      "\u001b[0;36m  File \u001b[0;32m\"<ipython-input-1-2cc34b18bb52>\"\u001b[0;36m, line \u001b[0;32m3\u001b[0m\n\u001b[0;31m    print('Learning Python is fun!)\u001b[0m\n\u001b[0m                                   ^\u001b[0m\n\u001b[0;31mSyntaxError\u001b[0m\u001b[0;31m:\u001b[0m EOL while scanning string literal\n"
     ]
    }
   ],
   "source": [
    "count=1\n",
    "while count<=100:\n",
    "    print('Learning Python is fun!)\n",
    "    count=count+1"
   ]
  },
  {
   "cell_type": "code",
   "execution_count": 4,
   "metadata": {},
   "outputs": [
    {
     "name": "stdout",
     "output_type": "stream",
     "text": [
      "Learning Python is fun!\n",
      "Learning Python is fun!\n",
      "Learning Python is fun!\n",
      "Learning Python is fun!\n",
      "Learning Python is fun!\n",
      "Learning Python is fun!\n",
      "Learning Python is fun!\n",
      "Learning Python is fun!\n",
      "Learning Python is fun!\n",
      "Learning Python is fun!\n",
      "Learning Python is fun!\n",
      "Learning Python is fun!\n",
      "Learning Python is fun!\n",
      "Learning Python is fun!\n",
      "Learning Python is fun!\n",
      "Learning Python is fun!\n",
      "Learning Python is fun!\n",
      "Learning Python is fun!\n",
      "Learning Python is fun!\n",
      "Learning Python is fun!\n",
      "Learning Python is fun!\n",
      "Learning Python is fun!\n",
      "Learning Python is fun!\n",
      "Learning Python is fun!\n",
      "Learning Python is fun!\n",
      "Learning Python is fun!\n",
      "Learning Python is fun!\n",
      "Learning Python is fun!\n",
      "Learning Python is fun!\n",
      "Learning Python is fun!\n",
      "Learning Python is fun!\n",
      "Learning Python is fun!\n",
      "Learning Python is fun!\n",
      "Learning Python is fun!\n",
      "Learning Python is fun!\n",
      "Learning Python is fun!\n",
      "Learning Python is fun!\n",
      "Learning Python is fun!\n",
      "Learning Python is fun!\n",
      "Learning Python is fun!\n",
      "Learning Python is fun!\n",
      "Learning Python is fun!\n",
      "Learning Python is fun!\n",
      "Learning Python is fun!\n",
      "Learning Python is fun!\n",
      "Learning Python is fun!\n",
      "Learning Python is fun!\n",
      "Learning Python is fun!\n",
      "Learning Python is fun!\n",
      "Learning Python is fun!\n",
      "Learning Python is fun!\n",
      "Learning Python is fun!\n",
      "Learning Python is fun!\n",
      "Learning Python is fun!\n",
      "Learning Python is fun!\n",
      "Learning Python is fun!\n",
      "Learning Python is fun!\n",
      "Learning Python is fun!\n",
      "Learning Python is fun!\n",
      "Learning Python is fun!\n",
      "Learning Python is fun!\n",
      "Learning Python is fun!\n",
      "Learning Python is fun!\n",
      "Learning Python is fun!\n",
      "Learning Python is fun!\n",
      "Learning Python is fun!\n",
      "Learning Python is fun!\n",
      "Learning Python is fun!\n",
      "Learning Python is fun!\n",
      "Learning Python is fun!\n",
      "Learning Python is fun!\n",
      "Learning Python is fun!\n",
      "Learning Python is fun!\n",
      "Learning Python is fun!\n",
      "Learning Python is fun!\n",
      "Learning Python is fun!\n",
      "Learning Python is fun!\n",
      "Learning Python is fun!\n",
      "Learning Python is fun!\n",
      "Learning Python is fun!\n",
      "Learning Python is fun!\n",
      "Learning Python is fun!\n",
      "Learning Python is fun!\n",
      "Learning Python is fun!\n",
      "Learning Python is fun!\n",
      "Learning Python is fun!\n",
      "Learning Python is fun!\n",
      "Learning Python is fun!\n",
      "Learning Python is fun!\n",
      "Learning Python is fun!\n",
      "Learning Python is fun!\n",
      "Learning Python is fun!\n",
      "Learning Python is fun!\n",
      "Learning Python is fun!\n",
      "Learning Python is fun!\n",
      "Learning Python is fun!\n",
      "Learning Python is fun!\n",
      "Learning Python is fun!\n",
      "Learning Python is fun!\n",
      "Learning Python is fun!\n"
     ]
    }
   ],
   "source": [
    "count=1\n",
    "while count<=100:\n",
    "    print('Learning Python is fun!')\n",
    "    count = count+1"
   ]
  },
  {
   "cell_type": "code",
   "execution_count": 5,
   "metadata": {},
   "outputs": [
    {
     "name": "stdout",
     "output_type": "stream",
     "text": [
      "Learning Python is fun\n"
     ]
    }
   ],
   "source": [
    "print('Learning Python is fun')\n",
    "count = count+1"
   ]
  },
  {
   "cell_type": "code",
   "execution_count": 8,
   "metadata": {},
   "outputs": [
    {
     "name": "stdout",
     "output_type": "stream",
     "text": [
      "1+2+3+...+10= 55\n"
     ]
    }
   ],
   "source": [
    "total=0\n",
    "total=1+2+3+4+5+6+7+8+9+10\n",
    "print(\"1+2+3+...+10=\",total)\n"
   ]
  },
  {
   "cell_type": "code",
   "execution_count": 1,
   "metadata": {},
   "outputs": [
    {
     "name": "stdout",
     "output_type": "stream",
     "text": [
      "1+2+3+...+100 5050\n"
     ]
    }
   ],
   "source": [
    "total = 0\n",
    "k=1\n",
    "while k <=100:\n",
    "    total = total +k\n",
    "    k=k+1\n",
    "print('1+2+3+...+100',total)"
   ]
  },
  {
   "cell_type": "code",
   "execution_count": 3,
   "metadata": {},
   "outputs": [
    {
     "name": "stdout",
     "output_type": "stream",
     "text": [
      "100+99+98+...+1=5050\n"
     ]
    }
   ],
   "source": [
    "total=0\n",
    "k=100\n",
    "while k>=1:\n",
    "    total+=k\n",
    "    k-=1\n",
    "print('100+99+98+...+1=%d'%(total))"
   ]
  },
  {
   "cell_type": "code",
   "execution_count": 4,
   "metadata": {},
   "outputs": [
    {
     "name": "stdout",
     "output_type": "stream",
     "text": [
      "2+4+6+8+...+100= 2550\n"
     ]
    }
   ],
   "source": [
    "evenTotal=0\n",
    "k=2\n",
    "while k <=100:\n",
    "    evenTotal=evenTotal+k\n",
    "    k=k+2\n",
    "print('2+4+6+8+...+100=',evenTotal)"
   ]
  },
  {
   "cell_type": "code",
   "execution_count": 6,
   "metadata": {},
   "outputs": [
    {
     "name": "stdout",
     "output_type": "stream",
     "text": [
      "1\n",
      "2\n",
      "3\n",
      "4\n",
      "5\n"
     ]
    }
   ],
   "source": [
    "for k in range(1,6):\n",
    "    print(k)"
   ]
  },
  {
   "cell_type": "code",
   "execution_count": 7,
   "metadata": {},
   "outputs": [
    {
     "name": "stdout",
     "output_type": "stream",
     "text": [
      "0\n",
      "1\n",
      "2\n",
      "3\n",
      "4\n",
      "5\n"
     ]
    }
   ],
   "source": [
    "for k in range(6):\n",
    "    print(k)"
   ]
  },
  {
   "cell_type": "code",
   "execution_count": 8,
   "metadata": {},
   "outputs": [
    {
     "name": "stdout",
     "output_type": "stream",
     "text": [
      "1\n",
      "3\n",
      "5\n",
      "7\n",
      "9\n"
     ]
    }
   ],
   "source": [
    "for k in range(1,10,2):\n",
    "    print(k)"
   ]
  },
  {
   "cell_type": "code",
   "execution_count": 9,
   "metadata": {},
   "outputs": [
    {
     "name": "stdout",
     "output_type": "stream",
     "text": [
      "10\n",
      "9\n",
      "8\n",
      "7\n",
      "6\n",
      "5\n",
      "4\n",
      "3\n",
      "2\n"
     ]
    }
   ],
   "source": [
    "for k in range(10,1,-1):\n",
    "    print(k)"
   ]
  },
  {
   "cell_type": "code",
   "execution_count": 10,
   "metadata": {},
   "outputs": [
    {
     "name": "stdout",
     "output_type": "stream",
     "text": [
      "10\n",
      "8\n",
      "6\n",
      "4\n",
      "2\n"
     ]
    }
   ],
   "source": [
    "for k in range(10,1,-2):\n",
    "    print(k)"
   ]
  },
  {
   "cell_type": "code",
   "execution_count": 11,
   "metadata": {},
   "outputs": [
    {
     "name": "stdout",
     "output_type": "stream",
     "text": [
      "Learning Python is fun!\n",
      "Learning Python is fun!\n",
      "Learning Python is fun!\n",
      "Learning Python is fun!\n",
      "Learning Python is fun!\n",
      "Learning Python is fun!\n",
      "Learning Python is fun!\n",
      "Learning Python is fun!\n",
      "Learning Python is fun!\n",
      "Learning Python is fun!\n",
      "Learning Python is fun!\n",
      "Learning Python is fun!\n",
      "Learning Python is fun!\n",
      "Learning Python is fun!\n",
      "Learning Python is fun!\n",
      "Learning Python is fun!\n",
      "Learning Python is fun!\n",
      "Learning Python is fun!\n",
      "Learning Python is fun!\n",
      "Learning Python is fun!\n",
      "Learning Python is fun!\n",
      "Learning Python is fun!\n",
      "Learning Python is fun!\n",
      "Learning Python is fun!\n",
      "Learning Python is fun!\n",
      "Learning Python is fun!\n",
      "Learning Python is fun!\n",
      "Learning Python is fun!\n",
      "Learning Python is fun!\n",
      "Learning Python is fun!\n",
      "Learning Python is fun!\n",
      "Learning Python is fun!\n",
      "Learning Python is fun!\n",
      "Learning Python is fun!\n",
      "Learning Python is fun!\n",
      "Learning Python is fun!\n",
      "Learning Python is fun!\n",
      "Learning Python is fun!\n",
      "Learning Python is fun!\n",
      "Learning Python is fun!\n",
      "Learning Python is fun!\n",
      "Learning Python is fun!\n",
      "Learning Python is fun!\n",
      "Learning Python is fun!\n",
      "Learning Python is fun!\n",
      "Learning Python is fun!\n",
      "Learning Python is fun!\n",
      "Learning Python is fun!\n",
      "Learning Python is fun!\n",
      "Learning Python is fun!\n",
      "Learning Python is fun!\n",
      "Learning Python is fun!\n",
      "Learning Python is fun!\n",
      "Learning Python is fun!\n",
      "Learning Python is fun!\n",
      "Learning Python is fun!\n",
      "Learning Python is fun!\n",
      "Learning Python is fun!\n",
      "Learning Python is fun!\n",
      "Learning Python is fun!\n",
      "Learning Python is fun!\n",
      "Learning Python is fun!\n",
      "Learning Python is fun!\n",
      "Learning Python is fun!\n",
      "Learning Python is fun!\n",
      "Learning Python is fun!\n",
      "Learning Python is fun!\n",
      "Learning Python is fun!\n",
      "Learning Python is fun!\n",
      "Learning Python is fun!\n",
      "Learning Python is fun!\n",
      "Learning Python is fun!\n",
      "Learning Python is fun!\n",
      "Learning Python is fun!\n",
      "Learning Python is fun!\n",
      "Learning Python is fun!\n",
      "Learning Python is fun!\n",
      "Learning Python is fun!\n",
      "Learning Python is fun!\n",
      "Learning Python is fun!\n",
      "Learning Python is fun!\n",
      "Learning Python is fun!\n",
      "Learning Python is fun!\n",
      "Learning Python is fun!\n",
      "Learning Python is fun!\n",
      "Learning Python is fun!\n",
      "Learning Python is fun!\n",
      "Learning Python is fun!\n",
      "Learning Python is fun!\n",
      "Learning Python is fun!\n",
      "Learning Python is fun!\n",
      "Learning Python is fun!\n",
      "Learning Python is fun!\n",
      "Learning Python is fun!\n",
      "Learning Python is fun!\n",
      "Learning Python is fun!\n",
      "Learning Python is fun!\n",
      "Learning Python is fun!\n",
      "Learning Python is fun!\n",
      "Learning Python is fun!\n"
     ]
    }
   ],
   "source": [
    "for k in range(1,101):\n",
    "    print('Learning Python is fun!')"
   ]
  },
  {
   "cell_type": "code",
   "execution_count": 12,
   "metadata": {},
   "outputs": [
    {
     "name": "stdout",
     "output_type": "stream",
     "text": [
      "1+2+3+...+100= 1\n",
      "1+2+3+...+100= 3\n",
      "1+2+3+...+100= 6\n",
      "1+2+3+...+100= 10\n",
      "1+2+3+...+100= 15\n",
      "1+2+3+...+100= 21\n",
      "1+2+3+...+100= 28\n",
      "1+2+3+...+100= 36\n",
      "1+2+3+...+100= 45\n",
      "1+2+3+...+100= 55\n",
      "1+2+3+...+100= 66\n",
      "1+2+3+...+100= 78\n",
      "1+2+3+...+100= 91\n",
      "1+2+3+...+100= 105\n",
      "1+2+3+...+100= 120\n",
      "1+2+3+...+100= 136\n",
      "1+2+3+...+100= 153\n",
      "1+2+3+...+100= 171\n",
      "1+2+3+...+100= 190\n",
      "1+2+3+...+100= 210\n",
      "1+2+3+...+100= 231\n",
      "1+2+3+...+100= 253\n",
      "1+2+3+...+100= 276\n",
      "1+2+3+...+100= 300\n",
      "1+2+3+...+100= 325\n",
      "1+2+3+...+100= 351\n",
      "1+2+3+...+100= 378\n",
      "1+2+3+...+100= 406\n",
      "1+2+3+...+100= 435\n",
      "1+2+3+...+100= 465\n",
      "1+2+3+...+100= 496\n",
      "1+2+3+...+100= 528\n",
      "1+2+3+...+100= 561\n",
      "1+2+3+...+100= 595\n",
      "1+2+3+...+100= 630\n",
      "1+2+3+...+100= 666\n",
      "1+2+3+...+100= 703\n",
      "1+2+3+...+100= 741\n",
      "1+2+3+...+100= 780\n",
      "1+2+3+...+100= 820\n",
      "1+2+3+...+100= 861\n",
      "1+2+3+...+100= 903\n",
      "1+2+3+...+100= 946\n",
      "1+2+3+...+100= 990\n",
      "1+2+3+...+100= 1035\n",
      "1+2+3+...+100= 1081\n",
      "1+2+3+...+100= 1128\n",
      "1+2+3+...+100= 1176\n",
      "1+2+3+...+100= 1225\n",
      "1+2+3+...+100= 1275\n",
      "1+2+3+...+100= 1326\n",
      "1+2+3+...+100= 1378\n",
      "1+2+3+...+100= 1431\n",
      "1+2+3+...+100= 1485\n",
      "1+2+3+...+100= 1540\n",
      "1+2+3+...+100= 1596\n",
      "1+2+3+...+100= 1653\n",
      "1+2+3+...+100= 1711\n",
      "1+2+3+...+100= 1770\n",
      "1+2+3+...+100= 1830\n",
      "1+2+3+...+100= 1891\n",
      "1+2+3+...+100= 1953\n",
      "1+2+3+...+100= 2016\n",
      "1+2+3+...+100= 2080\n",
      "1+2+3+...+100= 2145\n",
      "1+2+3+...+100= 2211\n",
      "1+2+3+...+100= 2278\n",
      "1+2+3+...+100= 2346\n",
      "1+2+3+...+100= 2415\n",
      "1+2+3+...+100= 2485\n",
      "1+2+3+...+100= 2556\n",
      "1+2+3+...+100= 2628\n",
      "1+2+3+...+100= 2701\n",
      "1+2+3+...+100= 2775\n",
      "1+2+3+...+100= 2850\n",
      "1+2+3+...+100= 2926\n",
      "1+2+3+...+100= 3003\n",
      "1+2+3+...+100= 3081\n",
      "1+2+3+...+100= 3160\n",
      "1+2+3+...+100= 3240\n",
      "1+2+3+...+100= 3321\n",
      "1+2+3+...+100= 3403\n",
      "1+2+3+...+100= 3486\n",
      "1+2+3+...+100= 3570\n",
      "1+2+3+...+100= 3655\n",
      "1+2+3+...+100= 3741\n",
      "1+2+3+...+100= 3828\n",
      "1+2+3+...+100= 3916\n",
      "1+2+3+...+100= 4005\n",
      "1+2+3+...+100= 4095\n",
      "1+2+3+...+100= 4186\n",
      "1+2+3+...+100= 4278\n",
      "1+2+3+...+100= 4371\n",
      "1+2+3+...+100= 4465\n",
      "1+2+3+...+100= 4560\n",
      "1+2+3+...+100= 4656\n",
      "1+2+3+...+100= 4753\n",
      "1+2+3+...+100= 4851\n",
      "1+2+3+...+100= 4950\n",
      "1+2+3+...+100= 5050\n"
     ]
    }
   ],
   "source": [
    "total= 0\n",
    "for i in range(1,101):\n",
    "    total+=i\n",
    "    print('1+2+3+...+100=',total)"
   ]
  },
  {
   "cell_type": "code",
   "execution_count": 13,
   "metadata": {},
   "outputs": [
    {
     "name": "stdout",
     "output_type": "stream",
     "text": [
      "2+4+6+...+100= 2\n",
      "2+4+6+...+100= 6\n",
      "2+4+6+...+100= 12\n",
      "2+4+6+...+100= 20\n",
      "2+4+6+...+100= 30\n",
      "2+4+6+...+100= 42\n",
      "2+4+6+...+100= 56\n",
      "2+4+6+...+100= 72\n",
      "2+4+6+...+100= 90\n",
      "2+4+6+...+100= 110\n",
      "2+4+6+...+100= 132\n",
      "2+4+6+...+100= 156\n",
      "2+4+6+...+100= 182\n",
      "2+4+6+...+100= 210\n",
      "2+4+6+...+100= 240\n",
      "2+4+6+...+100= 272\n",
      "2+4+6+...+100= 306\n",
      "2+4+6+...+100= 342\n",
      "2+4+6+...+100= 380\n",
      "2+4+6+...+100= 420\n",
      "2+4+6+...+100= 462\n",
      "2+4+6+...+100= 506\n",
      "2+4+6+...+100= 552\n",
      "2+4+6+...+100= 600\n",
      "2+4+6+...+100= 650\n",
      "2+4+6+...+100= 702\n",
      "2+4+6+...+100= 756\n",
      "2+4+6+...+100= 812\n",
      "2+4+6+...+100= 870\n",
      "2+4+6+...+100= 930\n",
      "2+4+6+...+100= 992\n",
      "2+4+6+...+100= 1056\n",
      "2+4+6+...+100= 1122\n",
      "2+4+6+...+100= 1190\n",
      "2+4+6+...+100= 1260\n",
      "2+4+6+...+100= 1332\n",
      "2+4+6+...+100= 1406\n",
      "2+4+6+...+100= 1482\n",
      "2+4+6+...+100= 1560\n",
      "2+4+6+...+100= 1640\n",
      "2+4+6+...+100= 1722\n",
      "2+4+6+...+100= 1806\n",
      "2+4+6+...+100= 1892\n",
      "2+4+6+...+100= 1980\n",
      "2+4+6+...+100= 2070\n",
      "2+4+6+...+100= 2162\n",
      "2+4+6+...+100= 2256\n",
      "2+4+6+...+100= 2352\n",
      "2+4+6+...+100= 2450\n",
      "2+4+6+...+100= 2550\n"
     ]
    }
   ],
   "source": [
    "total=0\n",
    "for i in range(2,101,2):\n",
    "    total+=i\n",
    "    print('2+4+6+...+100=',total)"
   ]
  },
  {
   "cell_type": "code",
   "execution_count": 1,
   "metadata": {},
   "outputs": [
    {
     "name": "stdout",
     "output_type": "stream",
     "text": [
      "The number is 14\n",
      "Total is 105\n"
     ]
    }
   ],
   "source": [
    "total=0\n",
    "number=0\n",
    "while True:\n",
    "    number+=1\n",
    "    total+=number\n",
    "    if total>100:\n",
    "        break\n",
    "print('The number is',number)\n",
    "print('Total is',total)"
   ]
  },
  {
   "cell_type": "code",
   "execution_count": 2,
   "metadata": {},
   "outputs": [
    {
     "name": "stdout",
     "output_type": "stream",
     "text": [
      "the Total is 4000\n"
     ]
    }
   ],
   "source": [
    "total=0\n",
    "number=1\n",
    "while number<=100:\n",
    "    if number % 5==0:\n",
    "        number+=1\n",
    "        continue\n",
    "    total+=number\n",
    "    number+=1\n",
    "print('the Total is',total)"
   ]
  },
  {
   "cell_type": "code",
   "execution_count": 3,
   "metadata": {},
   "outputs": [
    {
     "name": "stdout",
     "output_type": "stream",
     "text": [
      "The number is 64\n",
      "Total is 1056\n"
     ]
    }
   ],
   "source": [
    "total=0\n",
    "number=0\n",
    "while True:\n",
    "    number+=2\n",
    "    total+=number\n",
    "    if total>=1000:\n",
    "        break\n",
    "print('The number is',number)\n",
    "print('Total is',total)"
   ]
  },
  {
   "cell_type": "code",
   "execution_count": 6,
   "metadata": {},
   "outputs": [
    {
     "name": "stdout",
     "output_type": "stream",
     "text": [
      "the Total is 1050\n"
     ]
    }
   ],
   "source": [
    "total=0\n",
    "number=0\n",
    "while number<=100:\n",
    "    number+=1\n",
    "    if number % 5!=0:\n",
    "        continue\n",
    "    total+=number\n",
    "print('the Total is',total)"
   ]
  },
  {
   "cell_type": "code",
   "execution_count": 10,
   "metadata": {},
   "outputs": [
    {
     "name": "stdout",
     "output_type": "stream",
     "text": [
      "the total is 9\n"
     ]
    }
   ],
   "source": [
    "total=0\n",
    "number=1\n",
    "while number<=100:\n",
    "    number+=1\n",
    "    if number%5==0:\n",
    "        break\n",
    "    total+=number\n",
    "print('the total is',total)"
   ]
  },
  {
   "cell_type": "code",
   "execution_count": 11,
   "metadata": {},
   "outputs": [
    {
     "name": "stdout",
     "output_type": "stream",
     "text": [
      "1+3+5+...+99= 2500\n"
     ]
    }
   ],
   "source": [
    "oddtotal=0\n",
    "k=1\n",
    "while k <=100:\n",
    "    oddtotal=oddtotal+k\n",
    "    k=k+2\n",
    "print('1+3+5+...+99=',oddtotal)"
   ]
  },
  {
   "cell_type": "code",
   "execution_count": 14,
   "metadata": {},
   "outputs": [
    {
     "name": "stdout",
     "output_type": "stream",
     "text": [
      "i= 1\n",
      "j= 1\n",
      "j= 2\n",
      "j= 3\n",
      "j= 4\n",
      "j= 5\n",
      "j= 6\n",
      "j= 7\n",
      "j= 8\n",
      "j= 9\n",
      "\n",
      "i= 2\n",
      "j= 1\n",
      "j= 2\n",
      "j= 3\n",
      "j= 4\n",
      "j= 5\n",
      "j= 6\n",
      "j= 7\n",
      "j= 8\n",
      "j= 9\n",
      "\n",
      "i= 3\n",
      "j= 1\n",
      "j= 2\n",
      "j= 3\n",
      "j= 4\n",
      "j= 5\n",
      "j= 6\n",
      "j= 7\n",
      "j= 8\n",
      "j= 9\n",
      "\n",
      "i= 4\n",
      "j= 1\n",
      "j= 2\n",
      "j= 3\n",
      "j= 4\n",
      "j= 5\n",
      "j= 6\n",
      "j= 7\n",
      "j= 8\n",
      "j= 9\n",
      "\n",
      "i= 5\n",
      "j= 1\n",
      "j= 2\n",
      "j= 3\n",
      "j= 4\n",
      "j= 5\n",
      "j= 6\n",
      "j= 7\n",
      "j= 8\n",
      "j= 9\n",
      "\n",
      "i= 6\n",
      "j= 1\n",
      "j= 2\n",
      "j= 3\n",
      "j= 4\n",
      "j= 5\n",
      "j= 6\n",
      "j= 7\n",
      "j= 8\n",
      "j= 9\n",
      "\n",
      "i= 7\n",
      "j= 1\n",
      "j= 2\n",
      "j= 3\n",
      "j= 4\n",
      "j= 5\n",
      "j= 6\n",
      "j= 7\n",
      "j= 8\n",
      "j= 9\n",
      "\n",
      "i= 8\n",
      "j= 1\n",
      "j= 2\n",
      "j= 3\n",
      "j= 4\n",
      "j= 5\n",
      "j= 6\n",
      "j= 7\n",
      "j= 8\n",
      "j= 9\n",
      "\n",
      "i= 9\n",
      "j= 1\n",
      "j= 2\n",
      "j= 3\n",
      "j= 4\n",
      "j= 5\n",
      "j= 6\n",
      "j= 7\n",
      "j= 8\n",
      "j= 9\n",
      "\n"
     ]
    }
   ],
   "source": [
    "for i in range(1,10):\n",
    "    print('i=',i)\n",
    "    for j in range(1,10):\n",
    "        print('j=',j)\n",
    "    print()"
   ]
  },
  {
   "cell_type": "code",
   "execution_count": 15,
   "metadata": {},
   "outputs": [
    {
     "name": "stdout",
     "output_type": "stream",
     "text": [
      "10*20=200\n"
     ]
    }
   ],
   "source": [
    "i=10\n",
    "j=20\n",
    "\n",
    "print('%d*%d=%3d'%(i,j,i*j))"
   ]
  },
  {
   "cell_type": "code",
   "execution_count": 17,
   "metadata": {},
   "outputs": [
    {
     "name": "stdout",
     "output_type": "stream",
     "text": [
      "1*1= 1\n",
      "1*2= 2\n",
      "1*3= 3\n",
      "1*4= 4\n",
      "1*5= 5\n",
      "1*6= 6\n",
      "1*7= 7\n",
      "1*8= 8\n",
      "1*9= 9\n",
      "2*1= 2\n",
      "2*2= 4\n",
      "2*3= 6\n",
      "2*4= 8\n",
      "2*5=10\n",
      "2*6=12\n",
      "2*7=14\n",
      "2*8=16\n",
      "2*9=18\n",
      "3*1= 3\n",
      "3*2= 6\n",
      "3*3= 9\n",
      "3*4=12\n",
      "3*5=15\n",
      "3*6=18\n",
      "3*7=21\n",
      "3*8=24\n",
      "3*9=27\n",
      "4*1= 4\n",
      "4*2= 8\n",
      "4*3=12\n",
      "4*4=16\n",
      "4*5=20\n",
      "4*6=24\n",
      "4*7=28\n",
      "4*8=32\n",
      "4*9=36\n",
      "5*1= 5\n",
      "5*2=10\n",
      "5*3=15\n",
      "5*4=20\n",
      "5*5=25\n",
      "5*6=30\n",
      "5*7=35\n",
      "5*8=40\n",
      "5*9=45\n",
      "6*1= 6\n",
      "6*2=12\n",
      "6*3=18\n",
      "6*4=24\n",
      "6*5=30\n",
      "6*6=36\n",
      "6*7=42\n",
      "6*8=48\n",
      "6*9=54\n",
      "7*1= 7\n",
      "7*2=14\n",
      "7*3=21\n",
      "7*4=28\n",
      "7*5=35\n",
      "7*6=42\n",
      "7*7=49\n",
      "7*8=56\n",
      "7*9=63\n",
      "8*1= 8\n",
      "8*2=16\n",
      "8*3=24\n",
      "8*4=32\n",
      "8*5=40\n",
      "8*6=48\n",
      "8*7=56\n",
      "8*8=64\n",
      "8*9=72\n",
      "9*1= 9\n",
      "9*2=18\n",
      "9*3=27\n",
      "9*4=36\n",
      "9*5=45\n",
      "9*6=54\n",
      "9*7=63\n",
      "9*8=72\n",
      "9*9=81\n"
     ]
    }
   ],
   "source": [
    "for i in range(1,10):\n",
    "    for j in range(1,10):\n",
    "        print('%d*%d=%2d'%(i,j,i*j))"
   ]
  },
  {
   "cell_type": "code",
   "execution_count": 18,
   "metadata": {},
   "outputs": [
    {
     "name": "stdout",
     "output_type": "stream",
     "text": [
      "1*1= 11*2= 21*3= 31*4= 41*5= 51*6= 61*7= 71*8= 81*9= 92*1= 22*2= 42*3= 62*4= 82*5=102*6=122*7=142*8=162*9=183*1= 33*2= 63*3= 93*4=123*5=153*6=183*7=213*8=243*9=274*1= 44*2= 84*3=124*4=164*5=204*6=244*7=284*8=324*9=365*1= 55*2=105*3=155*4=205*5=255*6=305*7=355*8=405*9=456*1= 66*2=126*3=186*4=246*5=306*6=366*7=426*8=486*9=547*1= 77*2=147*3=217*4=287*5=357*6=427*7=497*8=567*9=638*1= 88*2=168*3=248*4=328*5=408*6=488*7=568*8=648*9=729*1= 99*2=189*3=279*4=369*5=459*6=549*7=639*8=729*9=81"
     ]
    }
   ],
   "source": [
    "for i in range(1,10):\n",
    "        for j in range(1,10):\n",
    "            print('%d*%d=%2d'%(i,j,i*j),end='')"
   ]
  },
  {
   "cell_type": "code",
   "execution_count": 19,
   "metadata": {},
   "outputs": [
    {
     "name": "stdout",
     "output_type": "stream",
     "text": [
      "1*1= 11*2= 21*3= 31*4= 41*5= 51*6= 61*7= 71*8= 81*9= 9\n",
      "2*1= 22*2= 42*3= 62*4= 82*5=102*6=122*7=142*8=162*9=18\n",
      "3*1= 33*2= 63*3= 93*4=123*5=153*6=183*7=213*8=243*9=27\n",
      "4*1= 44*2= 84*3=124*4=164*5=204*6=244*7=284*8=324*9=36\n",
      "5*1= 55*2=105*3=155*4=205*5=255*6=305*7=355*8=405*9=45\n",
      "6*1= 66*2=126*3=186*4=246*5=306*6=366*7=426*8=486*9=54\n",
      "7*1= 77*2=147*3=217*4=287*5=357*6=427*7=497*8=567*9=63\n",
      "8*1= 88*2=168*3=248*4=328*5=408*6=488*7=568*8=648*9=72\n",
      "9*1= 99*2=189*3=279*4=369*5=459*6=549*7=639*8=729*9=81\n"
     ]
    }
   ],
   "source": [
    "for i in range(1,10):\n",
    "        for j in range(1,10):\n",
    "            print('%d*%d=%2d'%(i,j,i*j),end='')\n",
    "        print()"
   ]
  },
  {
   "cell_type": "code",
   "execution_count": 20,
   "metadata": {},
   "outputs": [
    {
     "name": "stdout",
     "output_type": "stream",
     "text": [
      "1*1= 12*1= 23*1= 34*1= 45*1= 56*1= 67*1= 78*1= 89*1= 9\n",
      "1*2= 22*2= 43*2= 64*2= 85*2=106*2=127*2=148*2=169*2=18\n",
      "1*3= 32*3= 63*3= 94*3=125*3=156*3=187*3=218*3=249*3=27\n",
      "1*4= 42*4= 83*4=124*4=165*4=206*4=247*4=288*4=329*4=36\n",
      "1*5= 52*5=103*5=154*5=205*5=256*5=307*5=358*5=409*5=45\n",
      "1*6= 62*6=123*6=184*6=245*6=306*6=367*6=428*6=489*6=54\n",
      "1*7= 72*7=143*7=214*7=285*7=356*7=427*7=498*7=569*7=63\n",
      "1*8= 82*8=163*8=244*8=325*8=406*8=487*8=568*8=649*8=72\n",
      "1*9= 92*9=183*9=274*9=365*9=456*9=547*9=638*9=729*9=81\n"
     ]
    }
   ],
   "source": [
    "for i in range(1,10):\n",
    "        for j in range(1,10):\n",
    "            print('%d*%d=%2d'%(j,i,j*i),end='')\n",
    "        print()"
   ]
  },
  {
   "cell_type": "code",
   "execution_count": 22,
   "metadata": {},
   "outputs": [
    {
     "data": {
      "text/plain": [
       "0.7253611684848769"
      ]
     },
     "execution_count": 22,
     "metadata": {},
     "output_type": "execute_result"
    }
   ],
   "source": [
    "import random\n",
    "random.random()"
   ]
  },
  {
   "cell_type": "code",
   "execution_count": 23,
   "metadata": {},
   "outputs": [
    {
     "data": {
      "text/plain": [
       "0.530233252353631"
      ]
     },
     "execution_count": 23,
     "metadata": {},
     "output_type": "execute_result"
    }
   ],
   "source": [
    "random.random()"
   ]
  },
  {
   "cell_type": "code",
   "execution_count": 24,
   "metadata": {},
   "outputs": [
    {
     "data": {
      "text/plain": [
       "48"
      ]
     },
     "execution_count": 24,
     "metadata": {},
     "output_type": "execute_result"
    }
   ],
   "source": [
    "random.randint(1,49)"
   ]
  },
  {
   "cell_type": "code",
   "execution_count": 25,
   "metadata": {},
   "outputs": [
    {
     "data": {
      "text/plain": [
       "25"
      ]
     },
     "execution_count": 25,
     "metadata": {},
     "output_type": "execute_result"
    }
   ],
   "source": [
    "random.randint(1,38)"
   ]
  },
  {
   "cell_type": "code",
   "execution_count": 27,
   "metadata": {},
   "outputs": [
    {
     "name": "stdout",
     "output_type": "stream",
     "text": [
      "884068100724154947715312591817594756082129392137168941754522492511557279594920912491161604031575191343186847340237512316868374284229454868714245799273969450959426546839571863972744126849425487"
     ]
    }
   ],
   "source": [
    "import random\n",
    "for i in range(1,101):\n",
    "        randomnumber=random.randint(1,100)\n",
    "        print(randomnumber,end='')"
   ]
  },
  {
   "cell_type": "code",
   "execution_count": 31,
   "metadata": {},
   "outputs": [
    {
     "name": "stdout",
     "output_type": "stream",
     "text": [
      "478284629579284918145439548882986916787576837406598888351214951235743938738100863084298010211826213756531234797539723951892191324364313276891521003857484944249927637812788868178989861673968995\\nEven number: 48 \\nOdd number: 52\n"
     ]
    }
   ],
   "source": [
    "import random\n",
    "evencount = 0\n",
    "oddcount = 0\n",
    "for i in range(1,101):\n",
    "        randomnumber=random.randint(1,100)\n",
    "        print(randomnumber,end='')\n",
    "        if randomnumber%2==0:\n",
    "            evencount+=1\n",
    "oddcount=100-evencount\n",
    "    \n",
    "print('\\\\nEven number:',evencount,'\\\\nOdd number:',oddcount)"
   ]
  },
  {
   "cell_type": "code",
   "execution_count": 43,
   "metadata": {},
   "outputs": [
    {
     "name": "stdout",
     "output_type": "stream",
     "text": [
      "   91   24   65   84   88   46   12   57   10   46\n",
      "   92    6    2   48   29   27   37   97   45   63\n",
      "   98   89    6   98   65   81   45   47    1   99\n",
      "   82   95    7   99   81   42   96   13   77    2\n",
      "   68   18   76   48   57   15   27   80   14   67\n",
      "   86   22    1   42   24   36    6    1   13   94\n",
      "   19   70   92   36   27   98   63   42   19   44\n",
      "   15   25  100   90   42   40   39   59   39   87\n",
      "   66    6   83    9   57   40   50   76   14   44\n",
      "   70   53   51   40   81   34   66   19   17   92\n",
      "\\nEven number: 47 \\nOdd number: 53\n"
     ]
    }
   ],
   "source": [
    "import random\n",
    "evencount = 0\n",
    "oddcount = 0\n",
    "    \n",
    "for i in range(1,101):\n",
    "    randomnumber=random.randint(1,100)\n",
    "    if i %10==0:\n",
    "        print('%5d'%(randomnumber))\n",
    "    else:\n",
    "            print('%5d'%(randomnumber),end='')\n",
    "            if randomnumber%2==0:\n",
    "                evencount+=1\n",
    "oddcount=100-evencount\n",
    "print('\\\\nEven number:',evencount,'\\\\nOdd number:',oddcount)"
   ]
  },
  {
   "cell_type": "code",
   "execution_count": 44,
   "metadata": {},
   "outputs": [
    {
     "name": "stdout",
     "output_type": "stream",
     "text": [
      "Please input an integer:223\n",
      "223 is prime number\n"
     ]
    }
   ],
   "source": [
    "number=eval(input('Please input an integer:'))\n",
    "divisor=2\n",
    "flag=1\n",
    "while divisor<number:\n",
    "        if number % divisor==0:\n",
    "            #if true,number is not prime number\n",
    "            flag=0\n",
    "            break\n",
    "        divisor+=1\n",
    "if flag ==0:\n",
    "        print(number,'is not prime number')\n",
    "else:\n",
    "        print(number,'is prime number')"
   ]
  },
  {
   "cell_type": "code",
   "execution_count": 2,
   "metadata": {},
   "outputs": [
    {
     "name": "stdout",
     "output_type": "stream",
     "text": [
      "2357111317192329313741434753596167717379838997101103107109113127131137139149151157163167173179181191193197199211223227229233239241251257263269271277281283293307311313317331337347349353359367373379383389397401409419421431433439443449457461463467479487491499503509521523541547557563569571577587593599601607613617619631641643647653659661673677683691701709719727733739743751757761769773787797809811821823827829839853857859863877881883887907911919929937941947953967971977983991997"
     ]
    }
   ],
   "source": [
    "for number in range(2,1001):\n",
    "    divisor=2\n",
    "    flag=1\n",
    "    while divisor<=number/2:\n",
    "        if number % divisor==0:\n",
    "            flag=0\n",
    "            break\n",
    "        divisor+=1\n",
    "    if flag ==1:\n",
    "        print(number,end='')"
   ]
  },
  {
   "cell_type": "code",
   "execution_count": 3,
   "metadata": {},
   "outputs": [
    {
     "name": "stdout",
     "output_type": "stream",
     "text": [
      "please input an integer:125\n",
      "please input an integer:2525\n",
      "the GCD for 125 and 2525 is 25\n"
     ]
    }
   ],
   "source": [
    "number1=eval(input('please input an integer:'))\n",
    "number2=eval(input('please input an integer:'))\n",
    "gcd=1\n",
    "k=2\n",
    "while k <=number1 and k<=number2:\n",
    "    if number1%k==0 and number2%k==0:\n",
    "        gcd=k\n",
    "    k+=1\n",
    "print('the GCD for',number1,'and',number2,'is',gcd)"
   ]
  },
  {
   "cell_type": "code",
   "execution_count": 1,
   "metadata": {},
   "outputs": [
    {
     "name": "stdout",
     "output_type": "stream",
     "text": [
      "please input an numerator1:1\n",
      "please input an denominator1:2\n",
      "please input an numerator2:1\n",
      "please input an denominator2:6\n",
      "the GCD for 8 and 12 is 4\n",
      "1/2+1/6=2/3\n"
     ]
    }
   ],
   "source": [
    "numerator1=eval(input('please input an numerator1:'))\n",
    "denominator1=eval(input('please input an denominator1:'))\n",
    "\n",
    "\n",
    "numerator2=eval(input('please input an numerator2:'))\n",
    "denominator2=eval(input('please input an denominator2:'))\n",
    "\n",
    "\n",
    "number1=numerator1*denominator2+numerator2*denominator1\n",
    "number2=denominator1*denominator2\n",
    "\n",
    "\n",
    "gcd=1\n",
    "k=2\n",
    "while k <=number1 and k<=number2:\n",
    "    if number1%k==0 and number2%k==0:\n",
    "        gcd=k\n",
    "    k+=1\n",
    "print('the GCD for',number1,'and',number2,'is',gcd)\n",
    "print('%d/%d+%d/%d='%(numerator1,denominator1,numerator2,denominator2),end='')\n",
    "print('%d/%d'%(number1/gcd,number2/gcd))"
   ]
  },
  {
   "cell_type": "code",
   "execution_count": 2,
   "metadata": {},
   "outputs": [
    {
     "name": "stdout",
     "output_type": "stream",
     "text": [
      "19332412"
     ]
    }
   ],
   "source": [
    "import random\n",
    "for i in range(1,7):\n",
    "    k=random.randint(1,49)\n",
    "    print(k,end='')"
   ]
  },
  {
   "cell_type": "code",
   "execution_count": null,
   "metadata": {},
   "outputs": [],
   "source": []
  }
 ],
 "metadata": {
  "kernelspec": {
   "display_name": "Python 3",
   "language": "python",
   "name": "python3"
  },
  "language_info": {
   "codemirror_mode": {
    "name": "ipython",
    "version": 3
   },
   "file_extension": ".py",
   "mimetype": "text/x-python",
   "name": "python",
   "nbconvert_exporter": "python",
   "pygments_lexer": "ipython3",
   "version": "3.8.3"
  }
 },
 "nbformat": 4,
 "nbformat_minor": 4
}
